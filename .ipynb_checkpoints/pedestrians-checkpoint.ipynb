{
 "cells": [
  {
   "cell_type": "code",
   "execution_count": 29,
   "metadata": {},
   "outputs": [
    {
     "name": "stdout",
     "output_type": "stream",
     "text": [
      "Requirement already satisfied: ipynb in c:\\programdata\\anaconda3\\lib\\site-packages (0.5.1)\n"
     ]
    }
   ],
   "source": [
    "import numpy as np\n",
    "import matplotlib.pyplot as plt\n",
    "import pandas as pd\n",
    "import random\n",
    "!pip install ipynb\n",
    "\n"
   ]
  },
  {
   "cell_type": "code",
   "execution_count": 40,
   "metadata": {},
   "outputs": [
    {
     "ename": "ImportError",
     "evalue": "cannot import name 'laplace_eq' from 'ipynb.fs.full.my_functions' (unknown location)",
     "output_type": "error",
     "traceback": [
      "\u001b[1;31m---------------------------------------------------------------------------\u001b[0m",
      "\u001b[1;31mImportError\u001b[0m                               Traceback (most recent call last)",
      "\u001b[1;32m<ipython-input-40-ea6f7fb1f776>\u001b[0m in \u001b[0;36m<module>\u001b[1;34m\u001b[0m\n\u001b[1;32m----> 1\u001b[1;33m \u001b[1;32mfrom\u001b[0m \u001b[0mipynb\u001b[0m\u001b[1;33m.\u001b[0m\u001b[0mfs\u001b[0m\u001b[1;33m.\u001b[0m\u001b[0mfull\u001b[0m\u001b[1;33m.\u001b[0m\u001b[0mmy_functions\u001b[0m \u001b[1;32mimport\u001b[0m \u001b[0mlaplace_eq\u001b[0m\u001b[1;33m\u001b[0m\u001b[1;33m\u001b[0m\u001b[0m\n\u001b[0m\u001b[0;32m      2\u001b[0m \u001b[1;31m#from ipynb.fs.laplace_solver import *\u001b[0m\u001b[1;33m\u001b[0m\u001b[1;33m\u001b[0m\u001b[1;33m\u001b[0m\u001b[0m\n",
      "\u001b[1;31mImportError\u001b[0m: cannot import name 'laplace_eq' from 'ipynb.fs.full.my_functions' (unknown location)"
     ]
    }
   ],
   "source": [
    "from ipynb.fs.full.my_functions import factorial\n",
    "#from ipynb.fs.laplace_solver import *"
   ]
  },
  {
   "cell_type": "code",
   "execution_count": 38,
   "metadata": {},
   "outputs": [
    {
     "data": {
      "text/plain": [
       "2"
      ]
     },
     "execution_count": 38,
     "metadata": {},
     "output_type": "execute_result"
    }
   ],
   "source": [
    "factorial(2)"
   ]
  },
  {
   "cell_type": "code",
   "execution_count": 35,
   "metadata": {},
   "outputs": [
    {
     "ename": "NameError",
     "evalue": "name 'laplace_eq' is not defined",
     "output_type": "error",
     "traceback": [
      "\u001b[1;31m---------------------------------------------------------------------------\u001b[0m",
      "\u001b[1;31mNameError\u001b[0m                                 Traceback (most recent call last)",
      "\u001b[1;32m<ipython-input-35-3b316cc6596d>\u001b[0m in \u001b[0;36m<module>\u001b[1;34m\u001b[0m\n\u001b[0;32m      3\u001b[0m \u001b[0mmp\u001b[0m \u001b[1;33m=\u001b[0m \u001b[0mnp\u001b[0m\u001b[1;33m.\u001b[0m\u001b[0mones\u001b[0m\u001b[1;33m(\u001b[0m\u001b[1;33m[\u001b[0m\u001b[1;36m20\u001b[0m\u001b[1;33m,\u001b[0m\u001b[1;36m150\u001b[0m\u001b[1;33m]\u001b[0m\u001b[1;33m)\u001b[0m\u001b[1;33m\u001b[0m\u001b[1;33m\u001b[0m\u001b[0m\n\u001b[0;32m      4\u001b[0m \u001b[0mphi\u001b[0m \u001b[1;33m=\u001b[0m \u001b[0mnp\u001b[0m\u001b[1;33m.\u001b[0m\u001b[0mzeros\u001b[0m\u001b[1;33m(\u001b[0m\u001b[1;33m[\u001b[0m\u001b[1;36m20\u001b[0m\u001b[1;33m,\u001b[0m \u001b[1;36m150\u001b[0m\u001b[1;33m]\u001b[0m\u001b[1;33m)\u001b[0m\u001b[1;33m\u001b[0m\u001b[1;33m\u001b[0m\u001b[0m\n\u001b[1;32m----> 5\u001b[1;33m \u001b[0mmp\u001b[0m \u001b[1;33m=\u001b[0m \u001b[0mlaplace_eq\u001b[0m\u001b[1;33m(\u001b[0m\u001b[0mphi\u001b[0m\u001b[1;33m)\u001b[0m\u001b[1;33m\u001b[0m\u001b[1;33m\u001b[0m\u001b[0m\n\u001b[0m",
      "\u001b[1;31mNameError\u001b[0m: name 'laplace_eq' is not defined"
     ]
    }
   ],
   "source": [
    "tot_ped = 5\n",
    "ped = []\n",
    "mp = np.ones([20,150])\n",
    "phi = np.zeros([20, 150])\n",
    "mp = laplace_eq(phi)"
   ]
  },
  {
   "cell_type": "code",
   "execution_count": 295,
   "metadata": {},
   "outputs": [
    {
     "data": {
      "text/plain": [
       "array([[2.52647441e-06, 1.67303365e-05, 4.06331661e-05, ...,\n",
       "        3.51853761e-05, 1.88006914e-05, 2.95109650e-06],\n",
       "       [8.00393004e-06, 3.59676410e-05, 8.08190609e-05, ...,\n",
       "        4.64297500e-05, 2.44207394e-05, 3.96436528e-06],\n",
       "       [2.67770512e-05, 5.47149360e-05, 8.47609404e-05, ...,\n",
       "        4.45923147e-05, 2.59425610e-05, 7.15212801e-06],\n",
       "       ...,\n",
       "       [2.53564760e-05, 1.47032874e-04, 3.56178895e-04, ...,\n",
       "        2.93574703e-04, 2.75346071e-04, 1.65459460e-04],\n",
       "       [2.93901030e-05, 1.45105033e-04, 3.14525995e-04, ...,\n",
       "        2.25516538e-04, 1.98475819e-04, 1.17112125e-04],\n",
       "       [1.95827183e-05, 1.02967828e-04, 2.20949400e-04, ...,\n",
       "        8.62043415e-05, 7.36164309e-05, 4.41276608e-05]])"
      ]
     },
     "execution_count": 295,
     "metadata": {},
     "output_type": "execute_result"
    }
   ],
   "source": [
    "file = open(\"prob_landscape.csv\")\n",
    "mp = np.loadtxt(file, delimiter=\",\")\n",
    "mp"
   ]
  },
  {
   "cell_type": "code",
   "execution_count": 296,
   "metadata": {},
   "outputs": [
    {
     "data": {
      "text/plain": [
       "[[[6, 6], [0, 0]],\n",
       " [[0, 4], [0, 0]],\n",
       " [[8, 7], [0, 0]],\n",
       " [[6, 4], [0, 0]],\n",
       " [[7, 5], [0, 0]]]"
      ]
     },
     "execution_count": 296,
     "metadata": {},
     "output_type": "execute_result"
    }
   ],
   "source": [
    "random.seed(0)\n",
    "for i in range(0,tot_ped):\n",
    "    ped.append([[random.randint(0,10), random.randint(0,10)], [0, 0]])\n",
    "ped"
   ]
  },
  {
   "cell_type": "markdown",
   "metadata": {},
   "source": [
    "The 9 squares are numbered from the top left to the right:\n",
    "0 1 2 \\n\n",
    "3 4 5 \\n\n",
    "6 7 8\n",
    "Nr. 4 being the current square the pedestrian is standing on"
   ]
  },
  {
   "cell_type": "code",
   "execution_count": 297,
   "metadata": {},
   "outputs": [],
   "source": [
    "def get_prob(ped_ID):\n",
    "    # Get the specific distribution map\n",
    "    # Function: mp = get_prob_map(ped_ID)\n",
    "    # For now a mp with just 1's is used:\n",
    "    # Get current Square:\n",
    "    x = ped[ped_ID][1][0]\n",
    "    y = ped[ped_ID][1][1]\n",
    "    tot = mp[y+1][x-1] + mp[y+1][x] + mp[y+1][x+1] + mp[y][x-1] + mp[y][x] + mp[y][x+1] + mp[y-1][x-1] + mp[y-1][x] + mp[y-1][x+1]\n",
    "    squares = []\n",
    "    for a in range(-1, 2):\n",
    "        for b in range(-1, 2):\n",
    "            # Will have to be changed to the exponential method mentioned by Corbetta\n",
    "            squares.append(mp[y+a][x+b]/tot)\n",
    "    return squares"
   ]
  },
  {
   "cell_type": "code",
   "execution_count": 298,
   "metadata": {},
   "outputs": [
    {
     "data": {
      "text/plain": [
       "[0.18633256744222876,\n",
       " 0.08268959005112965,\n",
       " 0.43478986743805764,\n",
       " 0.012461240370199338,\n",
       " 0.010668239721777308,\n",
       " 0.07064518041821863,\n",
       " 0.01673984861139128,\n",
       " 0.03379723303926553,\n",
       " 0.15187623290773197]"
      ]
     },
     "execution_count": 298,
     "metadata": {},
     "output_type": "execute_result"
    }
   ],
   "source": [
    "prob_sq = get_prob(2)\n",
    "prob_sq"
   ]
  },
  {
   "cell_type": "code",
   "execution_count": 312,
   "metadata": {},
   "outputs": [],
   "source": [
    "def make_decision(normalized_squares):\n",
    "    sum_prob = 0\n",
    "    choice = random.randint(0, 100)/100\n",
    "    for i in range(0 ,9):\n",
    "        if (choice >= (sum_prob)) and (choice <= (sum_prob+normalized_squares[i])):\n",
    "            decided_square = i\n",
    "        sum_prob += normalized_squares[i]\n",
    "    return i\n",
    "        "
   ]
  },
  {
   "cell_type": "code",
   "execution_count": 313,
   "metadata": {},
   "outputs": [
    {
     "data": {
      "text/plain": [
       "8"
      ]
     },
     "execution_count": 313,
     "metadata": {},
     "output_type": "execute_result"
    }
   ],
   "source": [
    "make_decision(prob_sq)"
   ]
  },
  {
   "cell_type": "code",
   "execution_count": 314,
   "metadata": {},
   "outputs": [
    {
     "name": "stdout",
     "output_type": "stream",
     "text": [
      "0.9\n",
      "0\n",
      "testing low = 0test high = 0.18633256744222876\n",
      "0.18633256744222876\n",
      "testing low = 0.18633256744222876test high = 0.2690221574933584\n",
      "0.2690221574933584\n",
      "testing low = 0.2690221574933584test high = 0.703812024931416\n",
      "0.703812024931416\n",
      "testing low = 0.703812024931416test high = 0.7162732653016154\n",
      "0.7162732653016154\n",
      "testing low = 0.7162732653016154test high = 0.7269415050233927\n",
      "0.7269415050233927\n",
      "testing low = 0.7269415050233927test high = 0.7975866854416114\n",
      "0.7975866854416114\n",
      "testing low = 0.7975866854416114test high = 0.8143265340530027\n",
      "0.8143265340530027\n",
      "testing low = 0.8143265340530027test high = 0.8481237670922682\n",
      "0.8481237670922682\n",
      "testing low = 0.8481237670922682test high = 1.0000000000000002\n",
      "Yes!\n",
      "8\n"
     ]
    }
   ],
   "source": [
    "    sum_prob = 0\n",
    "    choice = random.randint(0, 100)/100\n",
    "    print(choice)\n",
    "    for i in range(0 ,9):\n",
    "        print(sum_prob)\n",
    "        \n",
    "        print ('testing low = ' + str(sum_prob) + 'test high = ' + str(sum_prob + prob_sq[i]) )\n",
    "        if (choice >= sum_prob) and (choice <= (sum_prob+prob_sq[i])):\n",
    "            decided_square = i\n",
    "            print('Yes!')\n",
    "        sum_prob += prob_sq[i]\n",
    "print(decided_square)\n",
    "        "
   ]
  }
 ],
 "metadata": {
  "kernelspec": {
   "display_name": "Python 3",
   "language": "python",
   "name": "python3"
  },
  "language_info": {
   "codemirror_mode": {
    "name": "ipython",
    "version": 3
   },
   "file_extension": ".py",
   "mimetype": "text/x-python",
   "name": "python",
   "nbconvert_exporter": "python",
   "pygments_lexer": "ipython3",
   "version": "3.8.1"
  }
 },
 "nbformat": 4,
 "nbformat_minor": 4
}
