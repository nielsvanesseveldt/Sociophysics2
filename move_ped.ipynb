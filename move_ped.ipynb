{
 "cells": [
  {
   "cell_type": "code",
   "execution_count": 1,
   "metadata": {},
   "outputs": [],
   "source": [
    "decided_square = 8"
   ]
  },
  {
   "cell_type": "code",
   "execution_count": null,
   "metadata": {},
   "outputs": [],
   "source": [
    "def move_ped(index, decided_square):\n",
    "#move pedestrian sideways\n",
    "    if ((decided_square == 2) or (decided_square == 5) or (decided_square == 8)):\n",
    "        ped[index][1][0] += 1\n",
    "    elif ((decided_square == 0) or (decided_square == 3) or (decided_square == 6)):\n",
    "        ped[index][0][0] -= 1\n",
    "    \n",
    "#move pedestrian up and down\n",
    "    if ((decided_square == 0) or (decided_square == 1) or (decided_square == 2)):\n",
    "        ped[index][0][1] -= 1\n",
    "    elif ((decided_square == 6) or (decided_square == 7) or (decided_square == 8)):\n",
    "        ped[index][0][1] += 1\n"
   ]
  },
  {
   "cell_type": "markdown",
   "metadata": {},
   "source": [
    "ped"
   ]
  }
 ],
 "metadata": {
  "kernelspec": {
   "display_name": "Python 3",
   "language": "python",
   "name": "python3"
  },
  "language_info": {
   "codemirror_mode": {
    "name": "ipython",
    "version": 3
   },
   "file_extension": ".py",
   "mimetype": "text/x-python",
   "name": "python",
   "nbconvert_exporter": "python",
   "pygments_lexer": "ipython3",
   "version": "3.7.6"
  }
 },
 "nbformat": 4,
 "nbformat_minor": 4
}
