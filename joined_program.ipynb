{
 "cells": [
  {
   "cell_type": "markdown",
   "metadata": {},
   "source": [
    "# Start of program"
   ]
  },
  {
   "cell_type": "code",
   "execution_count": 23,
   "metadata": {},
   "outputs": [],
   "source": [
    "from functions import *\n",
    "#from get_field import *\n",
    "import numpy as np\n",
    "import matplotlib.pyplot as plt"
   ]
  },
  {
   "cell_type": "markdown",
   "metadata": {},
   "source": [
    "Input:"
   ]
  },
  {
   "cell_type": "code",
   "execution_count": 55,
   "metadata": {},
   "outputs": [],
   "source": [
    "# Code should run for how many loops:\n",
    "run_time = 4\n",
    "# Between how many ped should be added per timestamp\n",
    "ped_add_min = 1\n",
    "ped_add_max = 10\n"
   ]
  },
  {
   "cell_type": "code",
   "execution_count": 56,
   "metadata": {},
   "outputs": [],
   "source": [
    "ped_list = []\n",
    "plotting_list = []"
   ]
  },
  {
   "cell_type": "code",
   "execution_count": 57,
   "metadata": {},
   "outputs": [],
   "source": [
    "for t in range(0, run_time):\n",
    "    ped_list = generate_ped(ped_list, ped_add_min, ped_add_max)\n",
    "    plotting_list.append(ped_list)\n",
    "    field_list = get_field(ped_list)\n",
    "    for ped in range(0, len(ped_list)):\n",
    "        probabilities = get_prob(ped_list, ped, field_list)\n",
    "        decided_square = make_decision(probabilities)\n",
    "        move_ped(ped_list, ped, decided_square)\n",
    "\n",
    "        "
   ]
  },
  {
   "cell_type": "code",
   "execution_count": 58,
   "metadata": {},
   "outputs": [
    {
     "data": {
      "text/plain": [
       "[[[[8, 72], [14, 2]],\n",
       "  [[9, 128], [15, 3]],\n",
       "  [[10, 91], [10, 4]],\n",
       "  [[7, 62], [7, 2]],\n",
       "  [[17, 4], [12, 4]],\n",
       "  [[17, 13], [14, 1]],\n",
       "  [[11, 35], [5, 1]],\n",
       "  [[0, 143], [8, 1]],\n",
       "  [[16, 96], [14, 2]],\n",
       "  [[17, 149], [10, 4]],\n",
       "  [[20, 104], [11, 1]],\n",
       "  [[14, 103], [11, 2]],\n",
       "  [[18, 23], [10, 0]],\n",
       "  [[4, 45], [11, 1]],\n",
       "  [[20, 31], [10, 2]],\n",
       "  [[16, 34], [5, 0]],\n",
       "  [[17, 110], [13, 3]],\n",
       "  [[10, 107], [9, 3]],\n",
       "  [[10, 76], [4, 1]],\n",
       "  [[14, 137], [5, 3]],\n",
       "  [[15, 67], [12, 2]],\n",
       "  [[4, 99], [12, 1]],\n",
       "  [[9, 119], [12, 2]],\n",
       "  [[19, 89], [16, 3]]],\n",
       " [[[8, 72], [14, 2]],\n",
       "  [[9, 128], [15, 3]],\n",
       "  [[10, 91], [10, 4]],\n",
       "  [[7, 62], [7, 2]],\n",
       "  [[17, 4], [12, 4]],\n",
       "  [[17, 13], [14, 1]],\n",
       "  [[11, 35], [5, 1]],\n",
       "  [[0, 143], [8, 1]],\n",
       "  [[16, 96], [14, 2]],\n",
       "  [[17, 149], [10, 4]],\n",
       "  [[20, 104], [11, 1]],\n",
       "  [[14, 103], [11, 2]],\n",
       "  [[18, 23], [10, 0]],\n",
       "  [[4, 45], [11, 1]],\n",
       "  [[20, 31], [10, 2]],\n",
       "  [[16, 34], [5, 0]],\n",
       "  [[17, 110], [13, 3]],\n",
       "  [[10, 107], [9, 3]],\n",
       "  [[10, 76], [4, 1]],\n",
       "  [[14, 137], [5, 3]],\n",
       "  [[15, 67], [12, 2]],\n",
       "  [[4, 99], [12, 1]],\n",
       "  [[9, 119], [12, 2]],\n",
       "  [[19, 89], [16, 3]]],\n",
       " [[[8, 72], [14, 2]],\n",
       "  [[9, 128], [15, 3]],\n",
       "  [[10, 91], [10, 4]],\n",
       "  [[7, 62], [7, 2]],\n",
       "  [[17, 4], [12, 4]],\n",
       "  [[17, 13], [14, 1]],\n",
       "  [[11, 35], [5, 1]],\n",
       "  [[0, 143], [8, 1]],\n",
       "  [[16, 96], [14, 2]],\n",
       "  [[17, 149], [10, 4]],\n",
       "  [[20, 104], [11, 1]],\n",
       "  [[14, 103], [11, 2]],\n",
       "  [[18, 23], [10, 0]],\n",
       "  [[4, 45], [11, 1]],\n",
       "  [[20, 31], [10, 2]],\n",
       "  [[16, 34], [5, 0]],\n",
       "  [[17, 110], [13, 3]],\n",
       "  [[10, 107], [9, 3]],\n",
       "  [[10, 76], [4, 1]],\n",
       "  [[14, 137], [5, 3]],\n",
       "  [[15, 67], [12, 2]],\n",
       "  [[4, 99], [12, 1]],\n",
       "  [[9, 119], [12, 2]],\n",
       "  [[19, 89], [16, 3]]],\n",
       " [[[8, 72], [14, 2]],\n",
       "  [[9, 128], [15, 3]],\n",
       "  [[10, 91], [10, 4]],\n",
       "  [[7, 62], [7, 2]],\n",
       "  [[17, 4], [12, 4]],\n",
       "  [[17, 13], [14, 1]],\n",
       "  [[11, 35], [5, 1]],\n",
       "  [[0, 143], [8, 1]],\n",
       "  [[16, 96], [14, 2]],\n",
       "  [[17, 149], [10, 4]],\n",
       "  [[20, 104], [11, 1]],\n",
       "  [[14, 103], [11, 2]],\n",
       "  [[18, 23], [10, 0]],\n",
       "  [[4, 45], [11, 1]],\n",
       "  [[20, 31], [10, 2]],\n",
       "  [[16, 34], [5, 0]],\n",
       "  [[17, 110], [13, 3]],\n",
       "  [[10, 107], [9, 3]],\n",
       "  [[10, 76], [4, 1]],\n",
       "  [[14, 137], [5, 3]],\n",
       "  [[15, 67], [12, 2]],\n",
       "  [[4, 99], [12, 1]],\n",
       "  [[9, 119], [12, 2]],\n",
       "  [[19, 89], [16, 3]]]]"
      ]
     },
     "execution_count": 58,
     "metadata": {},
     "output_type": "execute_result"
    }
   ],
   "source": [
    "plotting_list"
   ]
  },
  {
   "cell_type": "code",
   "execution_count": 61,
   "metadata": {},
   "outputs": [
    {
     "data": {
      "image/png": "[encoded data removed]",
      "text/plain": [
       "<Figure size 432x288 with 1 Axes>"
      ]
     },
     "metadata": {
      "needs_background": "light"
     },
     "output_type": "display_data"
    }
   ],
   "source": [
    "for ped_l in plotting_list:\n",
    "    array = np.array(ped_l)\n",
    "    plt.scatter(x=array[:,1,0], y=array[:,1,1])"
   ]
  },
  {
   "cell_type": "code",
   "execution_count": 43,
   "metadata": {},
   "outputs": [
    {
     "data": {
      "text/plain": [
       "[18, 79]"
      ]
     },
     "execution_count": 43,
     "metadata": {},
     "output_type": "execute_result"
    }
   ],
   "source": [
    "ped_list[1][0]"
   ]
  },
  {
   "cell_type": "code",
   "execution_count": null,
   "metadata": {},
   "outputs": [],
   "source": []
  }
 ],
 "metadata": {
  "kernelspec": {
   "display_name": "Python 3",
   "language": "python",
   "name": "python3"
  },
  "language_info": {
   "codemirror_mode": {
    "name": "ipython",
    "version": 3
   },
   "file_extension": ".py",
   "mimetype": "text/x-python",
   "name": "python",
   "nbconvert_exporter": "python",
   "pygments_lexer": "ipython3",
   "version": "3.8.1"
  }
 },
 "nbformat": 4,
 "nbformat_minor": 4
}
