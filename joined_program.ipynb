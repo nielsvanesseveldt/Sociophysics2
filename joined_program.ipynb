{
 "cells": [
  {
   "cell_type": "markdown",
   "metadata": {},
   "source": [
    "# Start of program"
   ]
  },
  {
   "cell_type": "code",
   "execution_count": 122,
   "metadata": {},
   "outputs": [],
   "source": [
    "from functions import *\n",
    "#from get_field import *\n",
    "import numpy as np\n",
    "import matplotlib.pyplot as plt\n",
    "from matplotlib.colors import LogNorm"
   ]
  },
  {
   "cell_type": "markdown",
   "metadata": {},
   "source": [
    "Input:"
   ]
  },
  {
   "cell_type": "code",
   "execution_count": 123,
   "metadata": {},
   "outputs": [],
   "source": [
    "# Code should run for how many loops:\n",
    "run_time = 30\n",
    "# Between how many ped should be added per timestamp\n",
    "ped_add_min = 1\n",
    "ped_add_max = 3\n"
   ]
  },
  {
   "cell_type": "code",
   "execution_count": 124,
   "metadata": {},
   "outputs": [],
   "source": [
    "ped_list = []\n",
    "plotting_list = []"
   ]
  },
  {
   "cell_type": "code",
   "execution_count": 125,
   "metadata": {},
   "outputs": [
    {
     "name": "stdout",
     "output_type": "stream",
     "text": [
      "!!\n",
      "[[[11, 16], [13, 1]]]\n",
      "[[[11, 16], [12, 0]], [[11, 70], [10, 0]]]\n",
      "[[[11, 16], [13, 1]], [[11, 70], [10, 0]], [[12, 1], [6, 1]]]\n",
      "[[[11, 16], [13, 1]], [[11, 70], [11, 1]], [[12, 1], [6, 2]], [[8, 92], [8, 2]], [[15, 72], [14, 0]], [[7, 56], [13, 1]]]\n",
      "[[[11, 16], [13, 2]], [[11, 70], [10, 1]], [[12, 1], [5, 1]], [[8, 92], [7, 2]], [[15, 72], [14, 1]], [[7, 56], [12, 1]], [[17, 18], [5, 0]]]\n",
      "[[[11, 16], [12, 1]], [[11, 70], [9, 2]], [[12, 1], [5, 1]], [[8, 92], [7, 3]], [[15, 72], [14, 1]], [[7, 56], [11, 1]], [[17, 18], [4, 0]], [[2, 33], [7, 0]]]\n",
      "[[[11, 16], [11, 1]], [[11, 70], [10, 1]], [[12, 1], [4, 1]], [[8, 92], [8, 2]], [[15, 72], [13, 1]], [[7, 56], [10, 1]], [[17, 18], [5, 0]], [[2, 33], [6, 1]], [[9, 45], [5, 2]], [[17, 68], [10, 2]]]\n",
      "[[[11, 16], [10, 1]], [[11, 70], [9, 0]], [[12, 1], [5, 0]], [[8, 92], [7, 2]], [[15, 72], [12, 2]], [[7, 56], [11, 2]], [[17, 18], [5, 1]], [[2, 33], [7, 2]], [[9, 45], [5, 2]], [[17, 68], [9, 1]], [[14, 84], [10, 2]], [[0, 54], [6, 2]], [[12, 12], [10, 1]]]\n",
      "[[[11, 16], [9, 2]], [[11, 70], [9, 1]], [[12, 1], [4, 0]], [[8, 92], [8, 1]], [[15, 72], [13, 3]], [[7, 56], [10, 3]], [[17, 18], [5, 2]], [[2, 33], [6, 2]], [[9, 45], [4, 3]], [[17, 68], [9, 1]], [[14, 84], [9, 2]], [[0, 54], [7, 1]], [[12, 12], [10, 0]], [[12, 87], [13, 0]], [[18, 42], [8, 2]], [[12, 88], [10, 0]]]\n",
      "[[[11, 16], [9, 2]], [[11, 70], [10, 1]], [[12, 1], [3, 1]], [[8, 92], [8, 2]], [[15, 72], [13, 4]], [[7, 56], [10, 2]], [[17, 18], [4, 3]], [[2, 33], [7, 2]], [[9, 45], [5, 2]], [[17, 68], [8, 1]], [[14, 84], [8, 1]], [[0, 54], [7, 2]], [[12, 12], [11, 1]], [[12, 87], [14, 1]], [[18, 42], [7, 3]], [[12, 88], [10, 0]], [[8, 109], [7, 2]], [[15, 54], [14, 2]], [[14, 21], [13, 0]]]\n",
      "[[[11, 16], [8, 2]], [[11, 70], [9, 2]], [[12, 1], [2, 0]], [[8, 92], [7, 3]], [[15, 72], [13, 5]], [[7, 56], [10, 1]], [[17, 18], [4, 4]], [[2, 33], [7, 3]], [[9, 45], [6, 3]], [[17, 68], [8, 2]], [[14, 84], [8, 2]], [[0, 54], [6, 2]], [[12, 12], [11, 2]], [[12, 87], [14, 0]], [[18, 42], [7, 3]], [[12, 88], [9, 0]], [[8, 109], [6, 3]], [[15, 54], [14, 1]], [[14, 21], [13, 1]], [[16, 41], [8, 1]], [[2, 106], [6, 2]], [[5, 19], [5, 2]]]\n",
      "[[[11, 16], [8, 3]], [[11, 70], [8, 2]], [[12, 1], [2, 0]], [[8, 92], [8, 4]], [[15, 72], [14, 6]], [[7, 56], [9, 2]], [[17, 18], [4, 5]], [[2, 33], [6, 4]], [[9, 45], [6, 2]], [[17, 68], [7, 2]], [[14, 84], [9, 2]], [[0, 54], [6, 2]], [[12, 12], [11, 2]], [[12, 87], [13, 0]], [[18, 42], [6, 3]], [[12, 88], [8, 0]], [[8, 109], [5, 4]], [[15, 54], [14, 2]], [[14, 21], [12, 0]], [[16, 41], [7, 2]], [[2, 106], [5, 3]], [[5, 19], [5, 1]], [[8, 11], [6, 1]], [[17, 96], [11, 1]]]\n",
      "[[[11, 16], [9, 4]], [[11, 70], [7, 3]], [[12, 1], [1, 1]], [[8, 92], [8, 3]], [[15, 72], [15, 6]], [[7, 56], [9, 1]], [[17, 18], [4, 5]], [[2, 33], [5, 5]], [[9, 45], [5, 3]], [[17, 68], [8, 2]], [[14, 84], [10, 2]], [[0, 54], [5, 2]], [[12, 12], [12, 3]], [[12, 87], [13, 1]], [[18, 42], [7, 3]], [[12, 88], [8, 1]], [[8, 109], [5, 3]], [[15, 54], [14, 1]], [[14, 21], [11, 1]], [[16, 41], [6, 3]], [[2, 106], [4, 4]], [[5, 19], [5, 1]], [[8, 11], [7, 2]], [[17, 96], [10, 1]], [[4, 49], [12, 1]], [[7, 25], [15, 2]], [[10, 88], [6, 1]]]\n",
      "[[[11, 16], [8, 3]], [[11, 70], [7, 2]], [[12, 1], [1, 2]], [[8, 92], [9, 3]], [[15, 72], [15, 7]], [[7, 56], [10, 1]], [[17, 18], [5, 4]], [[2, 33], [5, 5]], [[9, 45], [5, 4]], [[17, 68], [7, 3]], [[14, 84], [10, 3]], [[0, 54], [5, 2]], [[12, 12], [12, 3]], [[12, 87], [14, 2]], [[18, 42], [8, 3]], [[12, 88], [7, 1]], [[8, 109], [4, 3]], [[15, 54], [13, 2]], [[14, 21], [11, 2]], [[16, 41], [5, 3]], [[2, 106], [4, 5]], [[5, 19], [6, 1]], [[8, 11], [8, 3]], [[17, 96], [9, 2]], [[4, 49], [11, 1]], [[7, 25], [14, 3]], [[10, 88], [5, 0]], [[0, 2], [10, 0]], [[1, 102], [14, 2]]]\n",
      "[[[11, 16], [7, 2]], [[11, 70], [6, 3]], [[12, 1], [1, 1]], [[8, 92], [9, 2]], [[15, 72], [14, 8]], [[7, 56], [10, 1]], [[17, 18], [4, 4]], [[2, 33], [5, 5]], [[9, 45], [6, 3]], [[17, 68], [6, 2]], [[14, 84], [10, 2]], [[0, 54], [4, 3]], [[12, 12], [11, 4]], [[12, 87], [14, 3]], [[18, 42], [7, 4]], [[12, 88], [6, 2]], [[8, 109], [5, 3]], [[15, 54], [14, 3]], [[14, 21], [10, 2]], [[16, 41], [6, 4]], [[2, 106], [3, 6]], [[5, 19], [7, 2]], [[8, 11], [8, 3]], [[17, 96], [9, 3]], [[4, 49], [11, 2]], [[7, 25], [15, 3]], [[10, 88], [4, 1]], [[0, 2], [11, 0]], [[1, 102], [13, 3]], [[14, 53], [10, 2]], [[1, 17], [10, 1]]]\n",
      "[[[11, 16], [6, 3]], [[11, 70], [7, 3]], [[12, 1], [1, 2]], [[8, 92], [9, 3]], [[15, 72], [14, 8]], [[7, 56], [9, 0]], [[17, 18], [4, 4]], [[2, 33], [4, 6]], [[9, 45], [7, 2]], [[17, 68], [5, 2]], [[14, 84], [11, 3]], [[0, 54], [4, 3]], [[12, 12], [10, 4]], [[12, 87], [15, 2]], [[18, 42], [7, 4]], [[12, 88], [6, 1]], [[8, 109], [5, 2]], [[15, 54], [13, 4]], [[14, 21], [9, 3]], [[16, 41], [7, 3]], [[2, 106], [4, 7]], [[5, 19], [6, 1]], [[8, 11], [8, 4]], [[17, 96], [8, 4]], [[4, 49], [11, 3]], [[7, 25], [14, 2]], [[10, 88], [4, 1]], [[0, 2], [11, 1]], [[1, 102], [13, 3]], [[14, 53], [11, 2]], [[1, 17], [9, 1]], [[2, 41], [5, 2]], [[16, 105], [14, 0]], [[17, 26], [9, 0]]]\n",
      "[[[11, 16], [5, 2]], [[11, 70], [6, 3]], [[12, 1], [1, 3]], [[8, 92], [9, 3]], [[15, 72], [13, 9]], [[7, 56], [9, 0]], [[17, 18], [4, 5]], [[2, 33], [5, 5]], [[9, 45], [8, 2]], [[17, 68], [4, 1]], [[14, 84], [11, 2]], [[0, 54], [4, 2]], [[12, 12], [11, 5]], [[12, 87], [14, 2]], [[18, 42], [6, 4]], [[12, 88], [7, 1]], [[8, 109], [4, 3]], [[15, 54], [12, 5]], [[14, 21], [10, 4]], [[16, 41], [7, 3]], [[2, 106], [3, 6]], [[5, 19], [6, 1]], [[8, 11], [7, 4]], [[17, 96], [9, 5]], [[4, 49], [10, 3]], [[7, 25], [13, 2]], [[10, 88], [4, 2]], [[0, 2], [10, 2]], [[1, 102], [12, 3]], [[14, 53], [12, 2]], [[1, 17], [10, 2]], [[2, 41], [6, 3]], [[16, 105], [13, 0]], [[17, 26], [8, 1]], [[19, 15], [13, 2]]]\n",
      "[[[11, 16], [6, 2]], [[11, 70], [5, 4]], [[12, 1], [0, 4]], [[8, 92], [10, 2]], [[15, 72], [14, 8]], [[7, 56], [9, 1]], [[17, 18], [3, 4]], [[2, 33], [5, 4]], [[9, 45], [8, 3]], [[17, 68], [4, 1]], [[14, 84], [11, 3]], [[0, 54], [4, 3]], [[12, 12], [12, 4]], [[12, 87], [13, 1]], [[18, 42], [6, 4]], [[12, 88], [8, 2]], [[8, 109], [5, 4]], [[15, 54], [11, 6]], [[14, 21], [10, 3]], [[16, 41], [6, 4]], [[2, 106], [3, 7]], [[5, 19], [5, 2]], [[8, 11], [8, 3]], [[17, 96], [8, 5]], [[4, 49], [10, 3]], [[7, 25], [13, 3]], [[10, 88], [4, 1]], [[0, 2], [9, 3]], [[1, 102], [12, 3]], [[14, 53], [13, 2]], [[1, 17], [9, 2]], [[2, 41], [6, 3]], [[16, 105], [13, 1]], [[17, 26], [7, 2]], [[19, 15], [13, 2]], [[16, 2], [10, 2]], [[6, 99], [9, 1]]]\n",
      "[[[11, 16], [7, 3]], [[11, 70], [5, 3]], [[12, 1], [0, 5]], [[8, 92], [10, 3]], [[15, 72], [13, 9]], [[7, 56], [10, 2]], [[17, 18], [3, 3]], [[2, 33], [6, 4]], [[9, 45], [8, 2]], [[17, 68], [4, 2]], [[14, 84], [12, 3]], [[0, 54], [5, 2]], [[12, 12], [11, 4]], [[12, 87], [14, 2]], [[18, 42], [7, 3]], [[12, 88], [9, 2]], [[8, 109], [5, 5]], [[15, 54], [10, 7]], [[14, 21], [10, 4]], [[16, 41], [7, 3]], [[2, 106], [3, 8]], [[5, 19], [4, 3]], [[8, 11], [7, 4]], [[17, 96], [9, 4]], [[4, 49], [11, 3]], [[7, 25], [14, 2]], [[10, 88], [4, 2]], [[0, 2], [8, 4]], [[1, 102], [12, 4]], [[14, 53], [12, 3]], [[1, 17], [8, 1]], [[2, 41], [5, 2]], [[16, 105], [13, 2]], [[17, 26], [7, 2]], [[19, 15], [12, 1]], [[16, 2], [11, 3]], [[6, 99], [8, 0]], [[13, 44], [11, 2]]]\n",
      "[[[11, 16], [8, 3]], [[11, 70], [5, 3]], [[12, 1], [0, 6]], [[8, 92], [10, 3]], [[15, 72], [13, 9]], [[7, 56], [10, 2]], [[17, 18], [4, 2]], [[2, 33], [5, 5]], [[9, 45], [7, 2]], [[17, 68], [5, 1]], [[14, 84], [11, 4]], [[0, 54], [5, 3]], [[12, 12], [11, 4]], [[12, 87], [14, 3]], [[18, 42], [7, 4]], [[12, 88], [9, 2]], [[8, 109], [6, 6]], [[15, 54], [9, 7]], [[14, 21], [10, 4]], [[16, 41], [8, 3]], [[2, 106], [3, 8]], [[5, 19], [3, 3]], [[8, 11], [7, 5]], [[17, 96], [8, 5]], [[4, 49], [12, 4]], [[7, 25], [14, 1]], [[10, 88], [3, 1]], [[0, 2], [8, 4]], [[1, 102], [13, 4]], [[14, 53], [12, 2]], [[1, 17], [9, 0]], [[2, 41], [5, 2]], [[16, 105], [14, 1]], [[17, 26], [8, 3]], [[19, 15], [12, 2]], [[16, 2], [11, 2]], [[6, 99], [7, 0]], [[13, 44], [12, 1]], [[15, 20], [8, 2]]]\n",
      "[[[11, 16], [9, 2]], [[11, 70], [6, 2]], [[12, 1], [0, 7]], [[8, 92], [9, 2]], [[15, 72], [13, 8]], [[7, 56], [9, 2]], [[17, 18], [3, 1]], [[2, 33], [6, 4]], [[9, 45], [7, 3]], [[17, 68], [5, 2]], [[14, 84], [11, 5]], [[0, 54], [5, 4]], [[12, 12], [10, 5]], [[12, 87], [15, 4]], [[18, 42], [7, 4]], [[12, 88], [8, 2]], [[8, 109], [6, 7]], [[15, 54], [10, 7]], [[14, 21], [11, 4]], [[16, 41], [7, 3]], [[2, 106], [2, 8]], [[5, 19], [3, 2]], [[8, 11], [7, 6]], [[17, 96], [7, 5]], [[4, 49], [12, 3]], [[7, 25], [13, 0]], [[10, 88], [4, 2]], [[0, 2], [8, 5]], [[1, 102], [12, 3]], [[14, 53], [12, 1]], [[1, 17], [8, 1]], [[2, 41], [5, 3]], [[16, 105], [13, 2]], [[17, 26], [7, 2]], [[19, 15], [13, 1]], [[16, 2], [10, 1]], [[6, 99], [6, 0]], [[13, 44], [12, 0]], [[15, 20], [8, 3]], [[4, 11], [7, 1]], [[14, 42], [10, 2]], [[10, 66], [7, 1]]]\n"
     ]
    },
    {
     "name": "stdout",
     "output_type": "stream",
     "text": [
      "[[[11, 16], [10, 3]], [[11, 70], [7, 3]], [[12, 1], [0, 6]], [[8, 92], [8, 3]], [[15, 72], [13, 8]], [[7, 56], [9, 2]], [[17, 18], [2, 2]], [[2, 33], [5, 5]], [[9, 45], [8, 4]], [[17, 68], [4, 1]], [[14, 84], [12, 4]], [[0, 54], [6, 3]], [[12, 12], [9, 4]], [[12, 87], [15, 4]], [[18, 42], [7, 3]], [[12, 88], [9, 1]], [[8, 109], [5, 8]], [[15, 54], [10, 7]], [[14, 21], [10, 3]], [[16, 41], [8, 3]], [[2, 106], [2, 9]], [[5, 19], [4, 2]], [[8, 11], [8, 5]], [[17, 96], [8, 4]], [[4, 49], [12, 4]], [[7, 25], [12, 0]], [[10, 88], [3, 3]], [[0, 2], [7, 5]], [[1, 102], [12, 3]], [[14, 53], [11, 1]], [[1, 17], [7, 2]], [[2, 41], [5, 2]], [[16, 105], [12, 3]], [[17, 26], [8, 3]], [[19, 15], [12, 1]], [[16, 2], [11, 0]], [[6, 99], [6, 0]], [[13, 44], [13, 1]], [[15, 20], [9, 3]], [[4, 11], [7, 2]], [[14, 42], [11, 3]], [[10, 66], [8, 1]], [[3, 12], [14, 0]], [[5, 25], [11, 0]]]\n",
      "[[[11, 16], [10, 2]], [[11, 70], [8, 2]], [[12, 1], [0, 5]], [[8, 92], [9, 2]], [[15, 72], [14, 7]], [[7, 56], [10, 2]], [[17, 18], [3, 1]], [[2, 33], [4, 5]], [[9, 45], [9, 3]], [[17, 68], [5, 0]], [[14, 84], [13, 5]], [[0, 54], [7, 4]], [[12, 12], [8, 4]], [[12, 87], [15, 3]], [[18, 42], [8, 3]], [[12, 88], [10, 2]], [[8, 109], [6, 9]], [[15, 54], [9, 6]], [[14, 21], [9, 2]], [[16, 41], [8, 3]], [[2, 106], [1, 8]], [[5, 19], [5, 3]], [[8, 11], [8, 5]], [[17, 96], [9, 4]], [[4, 49], [11, 5]], [[7, 25], [13, 0]], [[10, 88], [3, 4]], [[0, 2], [8, 6]], [[1, 102], [13, 3]], [[14, 53], [11, 2]], [[1, 17], [8, 1]], [[2, 41], [4, 2]], [[16, 105], [13, 3]], [[17, 26], [9, 4]], [[19, 15], [11, 2]], [[16, 2], [10, 0]], [[6, 99], [7, 0]], [[13, 44], [13, 1]], [[15, 20], [10, 2]], [[4, 11], [6, 3]], [[14, 42], [11, 2]], [[10, 66], [7, 2]], [[3, 12], [15, 1]], [[5, 25], [10, 1]], [[12, 28], [6, 1]], [[0, 24], [14, 1]]]\n",
      "[[[11, 16], [9, 3]], [[11, 70], [9, 1]], [[12, 1], [1, 4]], [[8, 92], [10, 2]], [[15, 72], [13, 8]], [[7, 56], [9, 1]], [[17, 18], [4, 2]], [[2, 33], [5, 4]], [[9, 45], [10, 4]], [[17, 68], [6, 1]], [[14, 84], [13, 4]], [[0, 54], [7, 4]], [[12, 12], [9, 5]], [[12, 87], [14, 4]], [[18, 42], [7, 4]], [[12, 88], [10, 3]], [[8, 109], [6, 8]], [[15, 54], [9, 7]], [[14, 21], [8, 3]], [[16, 41], [8, 3]], [[2, 106], [2, 8]], [[5, 19], [5, 2]], [[8, 11], [9, 4]], [[17, 96], [9, 3]], [[4, 49], [12, 6]], [[7, 25], [12, 1]], [[10, 88], [2, 3]], [[0, 2], [8, 7]], [[1, 102], [14, 4]], [[14, 53], [10, 2]], [[1, 17], [7, 2]], [[2, 41], [4, 1]], [[16, 105], [12, 2]], [[17, 26], [8, 5]], [[19, 15], [12, 2]], [[16, 2], [9, 1]], [[6, 99], [6, 1]], [[13, 44], [14, 0]], [[15, 20], [10, 3]], [[4, 11], [6, 3]], [[14, 42], [11, 2]], [[10, 66], [6, 2]], [[3, 12], [15, 1]], [[5, 25], [9, 2]], [[12, 28], [7, 1]], [[0, 24], [14, 2]], [[19, 45], [12, 0]], [[16, 24], [15, 1]]]\n",
      "[[[11, 16], [10, 2]], [[11, 70], [8, 2]], [[12, 1], [2, 4]], [[8, 92], [9, 3]], [[15, 72], [13, 7]], [[7, 56], [10, 2]], [[17, 18], [4, 3]], [[2, 33], [6, 3]], [[9, 45], [10, 5]], [[17, 68], [7, 2]], [[14, 84], [12, 5]], [[0, 54], [7, 4]], [[12, 12], [10, 6]], [[12, 87], [15, 4]], [[18, 42], [6, 5]], [[12, 88], [10, 4]], [[8, 109], [7, 8]], [[15, 54], [10, 8]], [[14, 21], [9, 4]], [[16, 41], [9, 3]], [[2, 106], [3, 8]], [[5, 19], [4, 3]], [[8, 11], [10, 4]], [[17, 96], [9, 4]], [[4, 49], [13, 7]], [[7, 25], [11, 2]], [[10, 88], [2, 2]], [[0, 2], [7, 6]], [[1, 102], [13, 4]], [[14, 53], [9, 3]], [[1, 17], [8, 1]], [[2, 41], [5, 1]], [[16, 105], [11, 3]], [[17, 26], [9, 4]], [[19, 15], [11, 2]], [[16, 2], [9, 2]], [[6, 99], [5, 1]], [[13, 44], [15, 1]], [[15, 20], [10, 2]], [[4, 11], [6, 3]], [[14, 42], [10, 1]], [[10, 66], [6, 2]], [[3, 12], [14, 2]], [[5, 25], [9, 1]], [[12, 28], [6, 0]], [[0, 24], [13, 2]], [[19, 45], [11, 1]], [[16, 24], [16, 0]], [[18, 112], [9, 0]]]\n",
      "[[[11, 16], [10, 2]], [[11, 70], [9, 1]], [[12, 1], [3, 4]], [[8, 92], [9, 2]], [[15, 72], [12, 7]], [[7, 56], [9, 2]], [[17, 18], [4, 3]], [[2, 33], [7, 4]], [[9, 45], [9, 4]], [[17, 68], [7, 1]], [[14, 84], [13, 5]], [[0, 54], [8, 3]], [[12, 12], [10, 6]], [[12, 87], [15, 4]], [[18, 42], [5, 6]], [[12, 88], [11, 4]], [[8, 109], [7, 9]], [[15, 54], [11, 9]], [[14, 21], [8, 3]], [[16, 41], [8, 4]], [[2, 106], [3, 8]], [[5, 19], [4, 4]], [[8, 11], [10, 3]], [[17, 96], [9, 4]], [[4, 49], [14, 6]], [[7, 25], [10, 2]], [[10, 88], [2, 3]], [[0, 2], [8, 6]], [[1, 102], [14, 4]], [[14, 53], [10, 2]], [[1, 17], [9, 1]], [[2, 41], [6, 1]], [[16, 105], [11, 4]], [[17, 26], [10, 3]], [[19, 15], [10, 3]], [[16, 2], [8, 2]], [[6, 99], [5, 1]], [[13, 44], [16, 2]], [[15, 20], [10, 3]], [[4, 11], [5, 3]], [[14, 42], [10, 2]], [[10, 66], [7, 1]], [[3, 12], [15, 1]], [[5, 25], [9, 2]], [[12, 28], [6, 0]], [[0, 24], [13, 2]], [[19, 45], [12, 2]], [[16, 24], [15, 1]], [[18, 112], [8, 0]], [[7, 58], [11, 0]], [[13, 17], [6, 2]]]\n",
      "[[[11, 16], [9, 2]], [[11, 70], [8, 2]], [[12, 1], [2, 3]], [[8, 92], [8, 2]], [[15, 72], [12, 8]], [[7, 56], [9, 3]], [[17, 18], [3, 4]], [[2, 33], [7, 4]], [[9, 45], [8, 3]], [[17, 68], [6, 0]], [[14, 84], [13, 5]], [[0, 54], [9, 3]], [[12, 12], [10, 7]], [[12, 87], [16, 3]], [[18, 42], [4, 6]], [[12, 88], [12, 5]], [[8, 109], [7, 10]], [[15, 54], [10, 10]], [[14, 21], [8, 3]], [[16, 41], [7, 4]], [[2, 106], [2, 9]], [[5, 19], [5, 5]], [[8, 11], [10, 4]], [[17, 96], [8, 5]], [[4, 49], [14, 6]], [[7, 25], [11, 2]], [[10, 88], [2, 4]], [[0, 2], [9, 6]], [[1, 102], [13, 5]], [[14, 53], [11, 2]], [[1, 17], [10, 0]], [[2, 41], [7, 1]], [[16, 105], [12, 5]], [[17, 26], [11, 3]], [[19, 15], [10, 3]], [[16, 2], [7, 3]], [[6, 99], [4, 0]], [[13, 44], [16, 2]], [[15, 20], [9, 2]], [[4, 11], [6, 3]], [[14, 42], [11, 3]], [[10, 66], [6, 2]], [[3, 12], [14, 1]], [[5, 25], [9, 2]], [[12, 28], [6, 0]], [[0, 24], [12, 3]], [[19, 45], [11, 3]], [[16, 24], [16, 1]], [[18, 112], [7, 1]], [[7, 58], [10, 1]], [[13, 17], [5, 2]], [[17, 102], [7, 2]], [[19, 94], [13, 1]], [[4, 108], [9, 1]]]\n",
      "[[[11, 16], [8, 2]], [[11, 70], [9, 2]], [[12, 1], [3, 3]], [[8, 92], [9, 2]], [[15, 72], [13, 7]], [[7, 56], [10, 4]], [[17, 18], [2, 5]], [[2, 33], [6, 3]], [[9, 45], [9, 2]], [[17, 68], [6, 1]], [[14, 84], [13, 6]], [[0, 54], [8, 2]], [[12, 12], [11, 7]], [[12, 87], [17, 4]], [[18, 42], [3, 6]], [[12, 88], [11, 6]], [[8, 109], [8, 10]], [[15, 54], [11, 11]], [[14, 21], [9, 2]], [[16, 41], [8, 3]], [[2, 106], [3, 8]], [[5, 19], [5, 4]], [[8, 11], [9, 4]], [[17, 96], [8, 4]], [[4, 49], [15, 7]], [[7, 25], [11, 3]], [[10, 88], [2, 4]], [[0, 2], [8, 5]], [[1, 102], [14, 4]], [[14, 53], [11, 3]], [[1, 17], [10, 0]], [[2, 41], [6, 2]], [[16, 105], [11, 4]], [[17, 26], [10, 4]], [[19, 15], [10, 2]], [[16, 2], [8, 3]], [[6, 99], [3, 1]], [[13, 44], [16, 3]], [[15, 20], [9, 2]], [[4, 11], [7, 2]], [[14, 42], [12, 4]], [[10, 66], [7, 2]], [[3, 12], [15, 1]], [[5, 25], [10, 1]], [[12, 28], [6, 1]], [[0, 24], [13, 3]], [[19, 45], [12, 4]], [[16, 24], [15, 1]], [[18, 112], [8, 1]], [[7, 58], [9, 2]], [[13, 17], [6, 2]], [[17, 102], [7, 3]], [[19, 94], [14, 2]], [[4, 108], [8, 1]], [[4, 32], [14, 0]]]\n",
      "[[[11, 16], [8, 2]], [[11, 70], [10, 3]], [[12, 1], [4, 3]], [[8, 92], [8, 3]], [[15, 72], [12, 7]], [[7, 56], [9, 5]], [[17, 18], [3, 6]], [[2, 33], [5, 2]], [[9, 45], [8, 2]], [[17, 68], [6, 2]], [[14, 84], [14, 5]], [[0, 54], [7, 3]], [[12, 12], [10, 8]], [[12, 87], [18, 4]], [[18, 42], [4, 5]], [[12, 88], [12, 6]], [[8, 109], [8, 11]], [[15, 54], [11, 10]], [[14, 21], [9, 2]], [[16, 41], [9, 4]], [[2, 106], [2, 7]], [[5, 19], [4, 5]], [[8, 11], [8, 4]], [[17, 96], [8, 4]], [[4, 49], [16, 7]], [[7, 25], [12, 2]], [[10, 88], [1, 3]], [[0, 2], [8, 5]], [[1, 102], [13, 5]], [[14, 53], [10, 4]], [[1, 17], [9, 1]], [[2, 41], [7, 3]], [[16, 105], [11, 3]], [[17, 26], [9, 3]], [[19, 15], [10, 2]], [[16, 2], [7, 3]], [[6, 99], [4, 1]], [[13, 44], [15, 4]], [[15, 20], [10, 1]], [[4, 11], [6, 1]], [[14, 42], [12, 5]], [[10, 66], [6, 2]], [[3, 12], [15, 2]], [[5, 25], [10, 1]], [[12, 28], [6, 2]], [[0, 24], [14, 3]], [[19, 45], [12, 3]], [[16, 24], [16, 2]], [[18, 112], [7, 2]], [[7, 58], [8, 3]], [[13, 17], [5, 2]], [[17, 102], [6, 4]], [[19, 94], [14, 1]], [[4, 108], [9, 1]], [[4, 32], [14, 0]], [[12, 11], [14, 0]], [[2, 61], [8, 1]], [[0, 87], [11, 2]]]\n",
      "[[[11, 16], [7, 1]], [[11, 70], [11, 4]], [[12, 1], [3, 2]], [[8, 92], [7, 3]], [[15, 72], [13, 8]], [[7, 56], [9, 4]], [[17, 18], [4, 6]], [[2, 33], [4, 3]], [[9, 45], [7, 2]], [[17, 68], [6, 2]], [[14, 84], [15, 5]], [[0, 54], [8, 4]], [[12, 12], [10, 7]], [[12, 87], [17, 3]], [[18, 42], [3, 5]], [[12, 88], [12, 5]], [[8, 109], [9, 11]], [[15, 54], [12, 9]], [[14, 21], [8, 1]], [[16, 41], [9, 3]], [[2, 106], [2, 7]], [[5, 19], [4, 6]], [[8, 11], [7, 4]], [[17, 96], [8, 5]], [[4, 49], [16, 8]], [[7, 25], [12, 3]], [[10, 88], [1, 2]], [[0, 2], [8, 4]], [[1, 102], [12, 5]], [[14, 53], [9, 5]], [[1, 17], [8, 0]], [[2, 41], [6, 3]], [[16, 105], [11, 2]], [[17, 26], [10, 4]], [[19, 15], [10, 2]], [[16, 2], [8, 3]], [[6, 99], [4, 0]], [[13, 44], [15, 5]], [[15, 20], [9, 2]], [[4, 11], [7, 2]], [[14, 42], [13, 4]], [[10, 66], [7, 2]], [[3, 12], [14, 3]], [[5, 25], [11, 1]], [[12, 28], [6, 3]], [[0, 24], [15, 4]], [[19, 45], [13, 4]], [[16, 24], [17, 1]], [[18, 112], [8, 3]], [[7, 58], [9, 4]], [[13, 17], [4, 3]], [[17, 102], [5, 4]], [[19, 94], [14, 2]], [[4, 108], [8, 2]], [[4, 32], [13, 1]], [[12, 11], [15, 1]], [[2, 61], [8, 2]], [[0, 87], [12, 2]], [[14, 33], [12, 2]], [[8, 68], [12, 0]], [[10, 73], [9, 0]]]\n"
     ]
    }
   ],
   "source": [
    "for t in range(0, run_time):\n",
    "    ped_list = generate_ped(ped_list, ped_add_min, ped_add_max)\n",
    "    if t == 0:\n",
    "        print('!!')\n",
    "        first = ped_list.copy()\n",
    "    if t == int(run_time/2):\n",
    "        half_way = ped_list.copy()\n",
    "    print(ped_list)\n",
    "    field_list = get_field(ped_list)\n",
    "    for ped in range(0, len(ped_list)):\n",
    "        probabilities = get_prob(ped_list, ped, field_list)\n",
    "        decided_square = make_decision(probabilities)\n",
    "        move_ped(ped_list, ped, decided_square)\n",
    "    \n",
    "        "
   ]
  },
  {
   "cell_type": "code",
   "execution_count": 128,
   "metadata": {},
   "outputs": [
    {
     "data": {
      "text/plain": [
       "[[[11, 16], [7, 0]]]"
      ]
     },
     "execution_count": 128,
     "metadata": {},
     "output_type": "execute_result"
    }
   ],
   "source": [
    "first"
   ]
  },
  {
   "cell_type": "code",
   "execution_count": 129,
   "metadata": {},
   "outputs": [
    {
     "data": {
      "text/plain": [
       "[[[11, 16], [7, 0]],\n",
       " [[11, 70], [12, 5]],\n",
       " [[12, 1], [2, 2]],\n",
       " [[8, 92], [8, 4]],\n",
       " [[15, 72], [12, 7]],\n",
       " [[7, 56], [9, 4]],\n",
       " [[17, 18], [3, 6]],\n",
       " [[2, 33], [4, 2]],\n",
       " [[9, 45], [8, 2]],\n",
       " [[17, 68], [5, 3]],\n",
       " [[14, 84], [14, 5]],\n",
       " [[0, 54], [7, 3]],\n",
       " [[12, 12], [9, 8]],\n",
       " [[12, 87], [18, 4]],\n",
       " [[18, 42], [2, 4]],\n",
       " [[12, 88], [11, 5]],\n",
       " [[8, 109], [9, 10]],\n",
       " [[15, 54], [11, 8]],\n",
       " [[14, 21], [8, 1]],\n",
       " [[16, 41], [8, 2]],\n",
       " [[2, 106], [2, 6]],\n",
       " [[5, 19], [5, 6]],\n",
       " [[8, 11], [8, 4]],\n",
       " [[17, 96], [7, 6]],\n",
       " [[4, 49], [16, 9]],\n",
       " [[7, 25], [11, 2]],\n",
       " [[10, 88], [2, 2]],\n",
       " [[0, 2], [9, 4]],\n",
       " [[1, 102], [11, 5]],\n",
       " [[14, 53], [9, 5]],\n",
       " [[1, 17], [7, 1]],\n",
       " [[2, 41], [5, 3]],\n",
       " [[16, 105], [12, 1]],\n",
       " [[17, 26], [10, 3]]]"
      ]
     },
     "execution_count": 129,
     "metadata": {},
     "output_type": "execute_result"
    }
   ],
   "source": [
    "half_way"
   ]
  },
  {
   "cell_type": "code",
   "execution_count": 132,
   "metadata": {},
   "outputs": [
    {
     "data": {
      "text/plain": [
       "<matplotlib.collections.PathCollection at 0x1c6755cac70>"
      ]
     },
     "execution_count": 132,
     "metadata": {},
     "output_type": "execute_result"
    },
    {
     "data": {
      "image/png": "[encoded data removed]",
      "text/plain": [
       "<Figure size 720x720 with 4 Axes>"
      ]
     },
     "metadata": {
      "needs_background": "light"
     },
     "output_type": "display_data"
    }
   ],
   "source": [
    "fig, ax = plt.subplots(4, figsize = (10,10))\n",
    "array_first = np.array(first)\n",
    "array = np.array(ped_list)\n",
    "\n",
    "ax[0].set_title('start')\n",
    "ax[0].scatter(x=array_first[:,1,0], y=array_first[:,1,1])\n",
    "\n",
    "#ax[1].set_title('halfway')\n",
    "#ax[1].scatter(x=half_way[:,1,0], y=half_way[:,1,1])\n",
    "\n",
    "ax[2].set_title('End position')\n",
    "ax[2].scatter(x=array[:,1,0], y=array[:,1,1])\n",
    "\n",
    "ax[3].set_title('goal')\n",
    "ax[3].scatter(x=array[:,0,0], y=array[:,0,1])"
   ]
  },
  {
   "cell_type": "code",
   "execution_count": 134,
   "metadata": {},
   "outputs": [
    {
     "data": {
      "text/plain": [
       "<matplotlib.image.AxesImage at 0x1c6756b3850>"
      ]
     },
     "execution_count": 134,
     "metadata": {},
     "output_type": "execute_result"
    },
    {
     "data": {
      "image/png": "[encoded data removed]",
      "text/plain": [
       "<Figure size 432x288 with 1 Axes>"
      ]
     },
     "metadata": {
      "needs_background": "light"
     },
     "output_type": "display_data"
    }
   ],
   "source": [
    "H, xedges, yedges = np.histogram2d(array[:,1,0], array[:,1,1], bins=(10))\n",
    "H = H.T\n",
    "fig, ax = plt.subplots()#figsize=(22, 3))\n",
    "ax.imshow(H, cmap = 'Blues',norm = LogNorm())\n",
    "#tight_layout()"
   ]
  },
  {
   "cell_type": "code",
   "execution_count": 105,
   "metadata": {},
   "outputs": [
    {
     "data": {
      "image/png": "[encoded data removed]",
      "text/plain": [
       "<Figure size 432x288 with 1 Axes>"
      ]
     },
     "metadata": {
      "needs_background": "light"
     },
     "output_type": "display_data"
    }
   ],
   "source": [
    "plt.hist2d(array[:,1,0], array[:,1,1], bins=10);"
   ]
  },
  {
   "cell_type": "code",
   "execution_count": null,
   "metadata": {},
   "outputs": [],
   "source": []
  }
 ],
 "metadata": {
  "kernelspec": {
   "display_name": "Python 3",
   "language": "python",
   "name": "python3"
  },
  "language_info": {
   "codemirror_mode": {
    "name": "ipython",
    "version": 3
   },
   "file_extension": ".py",
   "mimetype": "text/x-python",
   "name": "python",
   "nbconvert_exporter": "python",
   "pygments_lexer": "ipython3",
   "version": "3.8.1"
  }
 },
 "nbformat": 4,
 "nbformat_minor": 4
}
