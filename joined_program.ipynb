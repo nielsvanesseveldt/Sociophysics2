{
 "cells": [
  {
   "cell_type": "markdown",
   "metadata": {},
   "source": [
    "# Start of program"
   ]
  },
  {
   "cell_type": "code",
   "execution_count": 1,
   "metadata": {},
   "outputs": [],
   "source": [
    "from functions import *\n",
    "#from get_field import *\n",
    "import numpy as np\n",
    "import matplotlib.pyplot as plt"
   ]
  },
  {
   "cell_type": "markdown",
   "metadata": {},
   "source": [
    "Input:"
   ]
  },
  {
   "cell_type": "code",
   "execution_count": 23,
   "metadata": {},
   "outputs": [],
   "source": [
    "# Code should run for how many loops:\n",
    "run_time = 5\n",
    "# Between how many ped should be added per timestamp\n",
    "ped_add_min = 1\n",
    "ped_add_max = 5\n"
   ]
  },
  {
   "cell_type": "code",
   "execution_count": 24,
   "metadata": {},
   "outputs": [],
   "source": [
    "ped_list = []\n",
    "plotting_list = []"
   ]
  },
  {
   "cell_type": "code",
   "execution_count": 26,
   "metadata": {},
   "outputs": [
    {
     "name": "stdout",
     "output_type": "stream",
     "text": [
      "[[[9, 75], [9, 2]], [[20, 9], [14, 3]], [[10, 137], [12, 1]], [[12, 45], [3, 5]], [[5, 10], [15, 7]], [[19, 10], [10, 3]], [[20, 83], [6, 1]], [[11, 125], [10, 3]], [[20, 94], [6, 3]], [[10, 50], [11, 2]], [[6, 126], [8, 1]], [[14, 11], [12, 0]], [[8, 1], [13, 3]], [[10, 78], [6, 1]], [[1, 108], [8, 2]], [[7, 126], [11, 3]], [[19, 99], [10, 1]]]\n",
      "[[[9, 75], [8, 1]], [[20, 9], [14, 4]], [[10, 137], [11, 0]], [[12, 45], [2, 6]], [[5, 10], [14, 8]], [[19, 10], [9, 4]], [[20, 83], [5, 2]], [[11, 125], [9, 3]], [[20, 94], [5, 4]], [[10, 50], [10, 2]], [[6, 126], [8, 0]], [[14, 11], [12, 1]], [[8, 1], [13, 2]], [[10, 78], [6, 0]], [[1, 108], [7, 2]], [[7, 126], [10, 3]], [[19, 99], [9, 0]], [[1, 47], [6, 1]], [[11, 136], [8, 1]], [[13, 107], [12, 1]], [[8, 31], [12, 3]]]\n",
      "[[[9, 75], [8, 1]], [[20, 9], [13, 4]], [[10, 137], [10, 1]], [[12, 45], [3, 7]], [[5, 10], [13, 9]], [[19, 10], [9, 5]], [[20, 83], [6, 3]], [[11, 125], [10, 4]], [[20, 94], [4, 5]], [[10, 50], [11, 1]], [[6, 126], [8, 1]], [[14, 11], [11, 1]], [[8, 1], [13, 2]], [[10, 78], [5, 1]], [[1, 108], [6, 3]], [[7, 126], [10, 4]], [[19, 99], [9, 0]], [[1, 47], [5, 2]], [[11, 136], [7, 2]], [[13, 107], [13, 2]], [[8, 31], [12, 3]], [[5, 15], [7, 2]]]\n",
      "[[[9, 75], [7, 1]], [[20, 9], [14, 5]], [[10, 137], [9, 2]], [[12, 45], [4, 7]], [[5, 10], [14, 8]], [[19, 10], [9, 5]], [[20, 83], [7, 3]], [[11, 125], [11, 3]], [[20, 94], [4, 4]], [[10, 50], [11, 1]], [[6, 126], [9, 1]], [[14, 11], [12, 0]], [[8, 1], [12, 2]], [[10, 78], [4, 1]], [[1, 108], [6, 4]], [[7, 126], [9, 5]], [[19, 99], [10, 1]], [[1, 47], [5, 3]], [[11, 136], [7, 2]], [[13, 107], [13, 3]], [[8, 31], [13, 4]], [[5, 15], [7, 3]], [[20, 109], [8, 1]], [[14, 11], [10, 2]], [[15, 18], [4, 1]], [[4, 135], [10, 1]], [[7, 95], [7, 1]]]\n",
      "[[[9, 75], [7, 2]], [[20, 9], [14, 6]], [[10, 137], [9, 2]], [[12, 45], [5, 8]], [[5, 10], [13, 7]], [[19, 10], [10, 6]], [[20, 83], [6, 3]], [[11, 125], [11, 4]], [[20, 94], [3, 5]], [[10, 50], [11, 2]], [[6, 126], [9, 1]], [[14, 11], [12, 1]], [[8, 1], [12, 3]], [[10, 78], [5, 2]], [[1, 108], [7, 3]], [[7, 126], [8, 6]], [[19, 99], [11, 1]], [[1, 47], [4, 4]], [[11, 136], [7, 1]], [[13, 107], [14, 2]], [[8, 31], [14, 5]], [[5, 15], [6, 3]], [[20, 109], [9, 2]], [[14, 11], [11, 3]], [[15, 18], [4, 1]], [[4, 135], [9, 1]], [[7, 95], [6, 1]], [[14, 27], [14, 1]]]\n"
     ]
    }
   ],
   "source": [
    "for t in range(0, run_time):\n",
    "    ped_list = generate_ped(ped_list, ped_add_min, ped_add_max)\n",
    "    if t == 0:\n",
    "        first_ped = ped_list\n",
    "    plotting_list.append(ped_list)\n",
    "    field_list = get_field(ped_list)\n",
    "    for ped in range(0, len(ped_list)):\n",
    "        probabilities = get_prob(ped_list, ped, field_list)\n",
    "        decided_square = make_decision(probabilities)\n",
    "        move_ped(ped_list, ped, decided_square)\n",
    "    print(ped_list)\n",
    "        "
   ]
  },
  {
   "cell_type": "code",
   "execution_count": 11,
   "metadata": {},
   "outputs": [
    {
     "data": {
      "text/plain": [
       "[[[15, 30], [11, 4]],\n",
       " [[7, 17], [9, 2]],\n",
       " [[18, 85], [15, 0]],\n",
       " [[16, 118], [10, 1]],\n",
       " [[2, 112], [15, 3]],\n",
       " [[15, 107], [6, 0]],\n",
       " [[17, 6], [13, 0]],\n",
       " [[5, 96], [12, 2]],\n",
       " [[9, 52], [12, 1]],\n",
       " [[2, 56], [7, 0]],\n",
       " [[17, 13], [11, 4]],\n",
       " [[7, 44], [14, 3]],\n",
       " [[1, 131], [14, 1]],\n",
       " [[8, 47], [10, 1]],\n",
       " [[0, 8], [10, 0]],\n",
       " [[7, 125], [7, 1]],\n",
       " [[3, 81], [8, 1]]]"
      ]
     },
     "execution_count": 11,
     "metadata": {},
     "output_type": "execute_result"
    }
   ],
   "source": [
    "first_ped"
   ]
  },
  {
   "cell_type": "code",
   "execution_count": 12,
   "metadata": {},
   "outputs": [
    {
     "data": {
      "text/plain": [
       "[[[15, 30], [11, 4]],\n",
       " [[7, 17], [9, 2]],\n",
       " [[18, 85], [15, 0]],\n",
       " [[16, 118], [10, 1]],\n",
       " [[2, 112], [15, 3]],\n",
       " [[15, 107], [6, 0]],\n",
       " [[17, 6], [13, 0]],\n",
       " [[5, 96], [12, 2]],\n",
       " [[9, 52], [12, 1]],\n",
       " [[2, 56], [7, 0]],\n",
       " [[17, 13], [11, 4]],\n",
       " [[7, 44], [14, 3]],\n",
       " [[1, 131], [14, 1]],\n",
       " [[8, 47], [10, 1]],\n",
       " [[0, 8], [10, 0]],\n",
       " [[7, 125], [7, 1]],\n",
       " [[3, 81], [8, 1]]]"
      ]
     },
     "execution_count": 12,
     "metadata": {},
     "output_type": "execute_result"
    }
   ],
   "source": [
    "ped_list"
   ]
  },
  {
   "cell_type": "code",
   "execution_count": 22,
   "metadata": {},
   "outputs": [
    {
     "data": {
      "text/plain": [
       "<matplotlib.collections.PathCollection at 0x11edfb330a0>"
      ]
     },
     "execution_count": 22,
     "metadata": {},
     "output_type": "execute_result"
    },
    {
     "data": {
      "image/png": "[encoded data removed]",
      "text/plain": [
       "<Figure size 432x288 with 2 Axes>"
      ]
     },
     "metadata": {
      "needs_background": "light"
     },
     "output_type": "display_data"
    }
   ],
   "source": [
    "fig, ax = plt.subplots(2)\n",
    "array_first = np.array(first_ped)\n",
    "array = np.array(ped_list)\n",
    "ax[0].scatter(x=array[:,1,0], y=array[:,1,1])\n",
    "ax[1].scatter(x=array_first[:,1,0], y=array_first[:,1,1])    \n",
    "#array_first, array"
   ]
  },
  {
   "cell_type": "code",
   "execution_count": null,
   "metadata": {},
   "outputs": [],
   "source": [
    "ped_list[1][0]"
   ]
  },
  {
   "cell_type": "code",
   "execution_count": null,
   "metadata": {},
   "outputs": [],
   "source": []
  }
 ],
 "metadata": {
  "kernelspec": {
   "display_name": "Python 3",
   "language": "python",
   "name": "python3"
  },
  "language_info": {
   "codemirror_mode": {
    "name": "ipython",
    "version": 3
   },
   "file_extension": ".py",
   "mimetype": "text/x-python",
   "name": "python",
   "nbconvert_exporter": "python",
   "pygments_lexer": "ipython3",
   "version": "3.8.1"
  }
 },
 "nbformat": 4,
 "nbformat_minor": 4
}
