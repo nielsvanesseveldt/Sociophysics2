{
 "cells": [
  {
   "cell_type": "code",
   "execution_count": 1,
   "metadata": {},
   "outputs": [],
   "source": [
    "def laplace_eq(M):\n",
    "    for n in range(150):\n",
    "        for j in range(len(M[0,:])-1):\n",
    "            for i in range(len(M[:,0])-1):\n",
    "                if M[i][j] == 1:\n",
    "                    pass\n",
    "                elif M[i][j] ==-1:\n",
    "                    pass\n",
    "                else:\n",
    "                    M[i,j] = 1/4 * (M[i-1][j] + M[i+1][j] + M[i][j-1] + M[i][j+1])\n",
    "    return M"
   ]
  },
  {
   "cell_type": "code",
   "execution_count": 2,
   "metadata": {},
   "outputs": [],
   "source": [
    "def get_prob(ped_ID):\n",
    "    # Get the specific distribution map\n",
    "    # Function: mp = get_prob_map(ped_ID)\n",
    "    # For now a mp with just 1's is used:\n",
    "    # Get current Square:\n",
    "    x = ped[ped_ID][1][0]\n",
    "    y = ped[ped_ID][1][1]\n",
    "    tot = mp[y+1][x-1] + mp[y+1][x] + mp[y+1][x+1] + mp[y][x-1] + mp[y][x] + mp[y][x+1] + mp[y-1][x-1] + mp[y-1][x] + mp[y-1][x+1]\n",
    "    squares = []\n",
    "    for a in range(-1, 2):\n",
    "        for b in range(-1, 2):\n",
    "            # Will have to be changed to the exponential method mentioned by Corbetta\n",
    "            squares.append(mp[y+a][x+b]/tot)\n",
    "    return squares"
   ]
  },
  {
   "cell_type": "code",
   "execution_count": null,
   "metadata": {},
   "outputs": [],
   "source": [
    "def make_decision(normalized_squares):\n",
    "    sum_prob = 0\n",
    "    choice = random.randint(0, 100)/100\n",
    "    for i in range(0 ,9):\n",
    "        if (choice >= sum_prob) and (choice <= (sum_prob+normalized_squares[i])):\n",
    "\n",
    "            decided_square = i\n",
    "        sum_prob += normalized_squares[i]\n",
    "    return decided_square"
   ]
  },
  {
   "cell_type": "code",
   "execution_count": null,
   "metadata": {},
   "outputs": [],
   "source": [
    "def move_ped(index, decided_square):\n",
    "#move pedestrian sideways\n",
    "    if ((decided_square == 2) or (decided_square == 5) or (decided_square == 8)):\n",
    "        ped[index][1][0] += 1\n",
    "    elif ((decided_square == 0) or (decided_square == 3) or (decided_square == 6)):\n",
    "        ped[index][1][0] -= 1\n",
    "    \n",
    "#move pedestrian up and down\n",
    "    if ((decided_square == 0) or (decided_square == 1) or (decided_square == 2)):\n",
    "        ped[index][1][1] -= 1\n",
    "    elif ((decided_square == 6) or (decided_square == 7) or (decided_square == 8)):\n",
    "        ped[index][1][1] += 1"
   ]
  },
  {
   "cell_type": "code",
   "execution_count": null,
   "metadata": {},
   "outputs": [],
   "source": [
    "def generate_ped(ped_list, min_ped, max_ped):\n",
    "    # Choose random nr pedestrians to be added, depending on given min and max conditions\n",
    "    nr_ped = random.randint(min_ped, max_ped)\n",
    "    for p in range(nr_ped):\n",
    "        start_pos = [random.randint(5, 15), random.randint(0,2)]\n",
    "        goal = [random.randint(0,10), random.randint(0,10)]\n",
    "        ped_list.append([goal, start_pos])\n",
    "    return ped_list"
   ]
  }
 ],
 "metadata": {
  "kernelspec": {
   "display_name": "Python 3",
   "language": "python",
   "name": "python3"
  },
  "language_info": {
   "codemirror_mode": {
    "name": "ipython",
    "version": 3
   },
   "file_extension": ".py",
   "mimetype": "text/x-python",
   "name": "python",
   "nbconvert_exporter": "python",
   "pygments_lexer": "ipython3",
   "version": "3.8.1"
  }
 },
 "nbformat": 4,
 "nbformat_minor": 4
}
