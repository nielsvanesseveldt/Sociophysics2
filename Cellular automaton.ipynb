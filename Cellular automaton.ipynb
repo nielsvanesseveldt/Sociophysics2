{
 "cells": [
  {
   "cell_type": "code",
   "execution_count": 3,
   "metadata": {},
   "outputs": [],
   "source": [
    "import numpy as np\n",
    "import matplotlib.pyplot as plt\n",
    "import pandas as pd\n",
    "import random"
   ]
  },
  {
   "cell_type": "code",
   "execution_count": 4,
   "metadata": {},
   "outputs": [],
   "source": [
    "nr_squares = 20"
   ]
  },
  {
   "cell_type": "code",
   "execution_count": 5,
   "metadata": {
    "scrolled": true
   },
   "outputs": [
    {
     "data": {
      "text/html": [
       "<div>\n",
       "<style scoped>\n",
       "    .dataframe tbody tr th:only-of-type {\n",
       "        vertical-align: middle;\n",
       "    }\n",
       "\n",
       "    .dataframe tbody tr th {\n",
       "        vertical-align: top;\n",
       "    }\n",
       "\n",
       "    .dataframe thead th {\n",
       "        text-align: right;\n",
       "    }\n",
       "</style>\n",
       "<table border=\"1\" class=\"dataframe\">\n",
       "  <thead>\n",
       "    <tr style=\"text-align: right;\">\n",
       "      <th></th>\n",
       "      <th>ped_ID</th>\n",
       "      <th>current_x</th>\n",
       "      <th>current_y</th>\n",
       "      <th>goal_x</th>\n",
       "      <th>goal_y</th>\n",
       "    </tr>\n",
       "  </thead>\n",
       "  <tbody>\n",
       "  </tbody>\n",
       "</table>\n",
       "</div>"
      ],
      "text/plain": [
       "Empty DataFrame\n",
       "Columns: [ped_ID, current_x, current_y, goal_x, goal_y]\n",
       "Index: []"
      ]
     },
     "execution_count": 5,
     "metadata": {},
     "output_type": "execute_result"
    }
   ],
   "source": [
    "# Creating the two main DataFrames\n",
    "\n",
    "# ped_ID is an unique nr for each ped that enters the platform\n",
    "# current is the unique ID of the square the ped is standing on\n",
    "# goal is the unique ID of the square the pedestrian wants to go to\n",
    "pedestrians = pd.DataFrame(columns = ['ped_ID', 'current_x', 'current_y', 'goal_x', 'goal_y'])\n",
    "\n",
    "# The x and y columns are the corresponding x and y coordinates, a multi index is used\n",
    "# Ped_ID is the unique ID of the ped standing on that square (If there is one on that square, otherwise it's 0)\n",
    "# obstacle is a boolean that indicates if there's an obstacle on that square\n",
    "squares = pd.DataFrame(columns = ['x', 'y', 'ped_ID', 'obstacle'])\n",
    "x_list = nr_squares*[*range(0,nr_squares)]\n",
    "y_list = []\n",
    "for i in range(0, nr_squares):\n",
    "    y_list.extend(nr_squares*[i])\n",
    "squares['x'] = x_list\n",
    "squares['y'] = y_list\n",
    "squares_df = squares.set_index(['x', 'y'])\n",
    "pedestrians"
   ]
  },
  {
   "cell_type": "code",
   "execution_count": 6,
   "metadata": {},
   "outputs": [
    {
     "data": {
      "text/html": [
       "<div>\n",
       "<style scoped>\n",
       "    .dataframe tbody tr th:only-of-type {\n",
       "        vertical-align: middle;\n",
       "    }\n",
       "\n",
       "    .dataframe tbody tr th {\n",
       "        vertical-align: top;\n",
       "    }\n",
       "\n",
       "    .dataframe thead th {\n",
       "        text-align: right;\n",
       "    }\n",
       "</style>\n",
       "<table border=\"1\" class=\"dataframe\">\n",
       "  <thead>\n",
       "    <tr style=\"text-align: right;\">\n",
       "      <th></th>\n",
       "      <th>ped_ID</th>\n",
       "      <th>current_x</th>\n",
       "      <th>current_y</th>\n",
       "      <th>goal_x</th>\n",
       "      <th>goal_y</th>\n",
       "    </tr>\n",
       "  </thead>\n",
       "  <tbody>\n",
       "    <tr>\n",
       "      <th>0</th>\n",
       "      <td>0</td>\n",
       "      <td>0</td>\n",
       "      <td>0</td>\n",
       "      <td>1</td>\n",
       "      <td>22</td>\n",
       "    </tr>\n",
       "    <tr>\n",
       "      <th>1</th>\n",
       "      <td>1</td>\n",
       "      <td>0</td>\n",
       "      <td>0</td>\n",
       "      <td>16</td>\n",
       "      <td>8</td>\n",
       "    </tr>\n",
       "    <tr>\n",
       "      <th>2</th>\n",
       "      <td>2</td>\n",
       "      <td>0</td>\n",
       "      <td>0</td>\n",
       "      <td>6</td>\n",
       "      <td>9</td>\n",
       "    </tr>\n",
       "    <tr>\n",
       "      <th>3</th>\n",
       "      <td>3</td>\n",
       "      <td>0</td>\n",
       "      <td>0</td>\n",
       "      <td>16</td>\n",
       "      <td>16</td>\n",
       "    </tr>\n",
       "    <tr>\n",
       "      <th>4</th>\n",
       "      <td>4</td>\n",
       "      <td>0</td>\n",
       "      <td>0</td>\n",
       "      <td>16</td>\n",
       "      <td>11</td>\n",
       "    </tr>\n",
       "    <tr>\n",
       "      <th>5</th>\n",
       "      <td>5</td>\n",
       "      <td>0</td>\n",
       "      <td>0</td>\n",
       "      <td>10</td>\n",
       "      <td>1</td>\n",
       "    </tr>\n",
       "  </tbody>\n",
       "</table>\n",
       "</div>"
      ],
      "text/plain": [
       "  ped_ID current_x current_y goal_x goal_y\n",
       "0      0         0         0      1     22\n",
       "1      1         0         0     16      8\n",
       "2      2         0         0      6      9\n",
       "3      3         0         0     16     16\n",
       "4      4         0         0     16     11\n",
       "5      5         0         0     10      1"
      ]
     },
     "execution_count": 6,
     "metadata": {},
     "output_type": "execute_result"
    }
   ],
   "source": [
    "# Create 3 pedestrians\n",
    "for p in range(0 ,6):\n",
    "    a = {'ped_ID': p, 'current_x' : 0, 'current_y': 0, 'goal_x' : random.randint(0, nr_squares), 'goal_y': random.randint(0, 30)}\n",
    "    pedestrians = pedestrians.append(a, ignore_index=True)\n",
    "pedestrians"
   ]
  },
  {
   "cell_type": "code",
   "execution_count": 7,
   "metadata": {},
   "outputs": [
    {
     "data": {
      "text/plain": [
       "<matplotlib.collections.PathCollection at 0x1f8b42d2d30>"
      ]
     },
     "execution_count": 7,
     "metadata": {},
     "output_type": "execute_result"
    },
    {
     "data": {
      "image/png": "[encoded data removed]",
      "text/plain": [
       "<Figure size 432x288 with 1 Axes>"
      ]
     },
     "metadata": {
      "needs_background": "light"
     },
     "output_type": "display_data"
    }
   ],
   "source": [
    "plt.scatter(pedestrians['goal_x'], pedestrians['goal_y'])\n",
    "plt.scatter(pedestrians['current_x'], pedestrians['current_y'])"
   ]
  },
  {
   "cell_type": "code",
   "execution_count": null,
   "metadata": {},
   "outputs": [],
   "source": [
    "for t in range(0, 3):\n",
    "    if pedestrians.query('(goal_x-current_x) > 0'):\n",
    "        pedestrians['current_x'] += 1\n",
    "    elif pedestrians.query('(goal_x-current_x) < 0'):\n",
    "        pedestrians['current'].str[0] -= 1\n",
    "    if pedestrians.query('(goal_y-current_y) > 0'):\n",
    "         pedestrians['current'].str[1] += 1\n",
    "    elif pedestrians.query('(goal_y-current_y) < 0'):\n",
    "        pedestrians['current'].str[1] -= 1\n",
    "pedestrians"
   ]
  },
  {
   "cell_type": "code",
   "execution_count": null,
   "metadata": {},
   "outputs": [],
   "source": [
    "pedestrians.query('(goal_x-current_x) > 0')"
   ]
  },
  {
   "cell_type": "code",
   "execution_count": null,
   "metadata": {},
   "outputs": [],
   "source": []
  }
 ],
 "metadata": {
  "kernelspec": {
   "display_name": "Python 3",
   "language": "python",
   "name": "python3"
  },
  "language_info": {
   "codemirror_mode": {
    "name": "ipython",
    "version": 3
   },
   "file_extension": ".py",
   "mimetype": "text/x-python",
   "name": "python",
   "nbconvert_exporter": "python",
   "pygments_lexer": "ipython3",
   "version": "3.8.1"
  }
 },
 "nbformat": 4,
 "nbformat_minor": 4
}
