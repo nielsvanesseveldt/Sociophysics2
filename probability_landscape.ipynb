{
  "nbformat": 4,
  "nbformat_minor": 0,
  "metadata": {
    "colab": {
      "name": "probability_landscape.ipynb",
      "provenance": []
    },
    "kernelspec": {
      "name": "python3",
      "display_name": "Python 3"
    },
    "language_info": {
      "name": "python"
    }
  },
  "cells": [
    {
      "cell_type": "code",
      "metadata": {
        "colab": {
          "base_uri": "https://localhost:8080/"
        },
        "id": "OBBY1YNl_BPq",
        "outputId": "b075ff53-a0a5-4c4d-bb9b-91122507a2f6"
      },
      "source": [
        "import numpy as np\n",
        "import matplotlib.pyplot as plt\n",
        "import pandas as pd\n",
        "from scipy.stats import entropy\n",
        "import math as math\n",
        "import seaborn as sns\n",
        "from matplotlib.colors import LogNorm\n",
        "%pylab inline\n",
        "\n",
        "!pip install sociophysicsdatahandler"
      ],
      "execution_count": 2,
      "outputs": [
        {
          "output_type": "stream",
          "name": "stdout",
          "text": [
            "Populating the interactive namespace from numpy and matplotlib\n",
            "Collecting sociophysicsdatahandler\n",
            "  Downloading sociophysicsDataHandler-1.2.2.tar.gz (6.4 kB)\n",
            "Requirement already satisfied: numpy>=1.8 in /usr/local/lib/python3.7/dist-packages (from sociophysicsdatahandler) (1.19.5)\n",
            "Requirement already satisfied: matplotlib>=2.0 in /usr/local/lib/python3.7/dist-packages (from sociophysicsdatahandler) (3.2.2)\n",
            "Requirement already satisfied: scipy>=1.4 in /usr/local/lib/python3.7/dist-packages (from sociophysicsdatahandler) (1.4.1)\n",
            "Collecting pyocclient\n",
            "  Downloading pyocclient-0.6.tar.gz (28 kB)\n",
            "Requirement already satisfied: pyarrow in /usr/local/lib/python3.7/dist-packages (from sociophysicsdatahandler) (3.0.0)\n",
            "Requirement already satisfied: pandas in /usr/local/lib/python3.7/dist-packages (from sociophysicsdatahandler) (1.1.5)\n",
            "Requirement already satisfied: pillow in /usr/local/lib/python3.7/dist-packages (from sociophysicsdatahandler) (7.1.2)\n",
            "Requirement already satisfied: pyparsing!=2.0.4,!=2.1.2,!=2.1.6,>=2.0.1 in /usr/local/lib/python3.7/dist-packages (from matplotlib>=2.0->sociophysicsdatahandler) (3.0.6)\n",
            "Requirement already satisfied: cycler>=0.10 in /usr/local/lib/python3.7/dist-packages (from matplotlib>=2.0->sociophysicsdatahandler) (0.11.0)\n",
            "Requirement already satisfied: python-dateutil>=2.1 in /usr/local/lib/python3.7/dist-packages (from matplotlib>=2.0->sociophysicsdatahandler) (2.8.2)\n",
            "Requirement already satisfied: kiwisolver>=1.0.1 in /usr/local/lib/python3.7/dist-packages (from matplotlib>=2.0->sociophysicsdatahandler) (1.3.2)\n",
            "Requirement already satisfied: six>=1.5 in /usr/local/lib/python3.7/dist-packages (from python-dateutil>=2.1->matplotlib>=2.0->sociophysicsdatahandler) (1.15.0)\n",
            "Requirement already satisfied: pytz>=2017.2 in /usr/local/lib/python3.7/dist-packages (from pandas->sociophysicsdatahandler) (2018.9)\n",
            "Requirement already satisfied: requests>=2.0.1 in /usr/local/lib/python3.7/dist-packages (from pyocclient->sociophysicsdatahandler) (2.23.0)\n",
            "Requirement already satisfied: chardet<4,>=3.0.2 in /usr/local/lib/python3.7/dist-packages (from requests>=2.0.1->pyocclient->sociophysicsdatahandler) (3.0.4)\n",
            "Requirement already satisfied: idna<3,>=2.5 in /usr/local/lib/python3.7/dist-packages (from requests>=2.0.1->pyocclient->sociophysicsdatahandler) (2.10)\n",
            "Requirement already satisfied: certifi>=2017.4.17 in /usr/local/lib/python3.7/dist-packages (from requests>=2.0.1->pyocclient->sociophysicsdatahandler) (2021.10.8)\n",
            "Requirement already satisfied: urllib3!=1.25.0,!=1.25.1,<1.26,>=1.21.1 in /usr/local/lib/python3.7/dist-packages (from requests>=2.0.1->pyocclient->sociophysicsdatahandler) (1.24.3)\n",
            "Building wheels for collected packages: sociophysicsdatahandler, pyocclient\n",
            "  Building wheel for sociophysicsdatahandler (setup.py) ... \u001b[?25l\u001b[?25hdone\n",
            "  Created wheel for sociophysicsdatahandler: filename=sociophysicsDataHandler-1.2.2-py3-none-any.whl size=7126 sha256=813eb9a597180a0955cfa29d932a640511986a77ab4a519ba7df65b5fc7e54ad\n",
            "  Stored in directory: /root/.cache/pip/wheels/b8/e3/2f/e46bb2cfe43423220379ae42e6d52e407b282aac2a84bcad40\n",
            "  Building wheel for pyocclient (setup.py) ... \u001b[?25l\u001b[?25hdone\n",
            "  Created wheel for pyocclient: filename=pyocclient-0.6-py3-none-any.whl size=26056 sha256=a3b96db879e5b8997d869f818752a5060b1af391c810a5a464bc6a704d08ab9a\n",
            "  Stored in directory: /root/.cache/pip/wheels/fd/4b/94/c7ed8749c157aeef88f1a23dfe0709c3b64b5ec36964d3d15f\n",
            "Successfully built sociophysicsdatahandler pyocclient\n",
            "Installing collected packages: pyocclient, sociophysicsdatahandler\n",
            "Successfully installed pyocclient-0.6 sociophysicsdatahandler-1.2.2\n"
          ]
        }
      ]
    },
    {
      "cell_type": "code",
      "metadata": {
        "colab": {
          "base_uri": "https://localhost:8080/"
        },
        "id": "F2EDPdq3_J7Z",
        "outputId": "3a7552df-6906-4551-85e7-1f988cafafe3"
      },
      "source": [
        "from sociophysicsDataHandler import SociophysicsDataHandler\n",
        "!cat auth.txt"
      ],
      "execution_count": 4,
      "outputs": [
        {
          "output_type": "stream",
          "name": "stdout",
          "text": [
            "guest\r\n",
            "WVSWV-INLZY-VBPAU-IWMOR"
          ]
        }
      ]
    },
    {
      "cell_type": "code",
      "metadata": {
        "id": "e9vcj1Tr4SAc"
      },
      "source": [
        "dh = SociophysicsDataHandler()\n",
        "pd.set_option('float_format', '{:f}'.format)"
      ],
      "execution_count": null,
      "outputs": []
    },
    {
      "cell_type": "code",
      "metadata": {
        "id": "-1jISpZqTuWn"
      },
      "source": [
        "# dates\n",
        "list_days = ['20210401','20210402','20210403','20210404','20210405','20210406','20210407','20210408','20210409','20210410']"
      ],
      "execution_count": 134,
      "outputs": []
    },
    {
      "cell_type": "code",
      "metadata": {
        "colab": {
          "base_uri": "https://localhost:8080/"
        },
        "id": "hwk4jOsEx927",
        "outputId": "3d5bb55f-d6c5-42ea-b968-c27261dc6a28"
      },
      "source": [
        "# concat multiple dates worth of data in one large dataframe\n",
        "df_list = []\n",
        "for i in list_days:\n",
        "  try:\n",
        "    file_path = 'ehv/platform2.1' + '/' + i + '/'\n",
        "    flst = dh.list_files(file_path)\n",
        "\n",
        "    dh.fetch_prorail_data_from_path(file_path + '/' + flst.name[6])\n",
        "    df_list.append(dh.df)\n",
        "  except:\n",
        "    pass\n",
        "large_dataframe = pd.concat(df_list)"
      ],
      "execution_count": 135,
      "outputs": [
        {
          "output_type": "stream",
          "name": "stdout",
          "text": [
            "targeting path /storage/surfsara/ProRail_USE_LL_data/ehv/platform2.1/20210401/\n",
            "Files listed. Accessible as <this-object>.filelist\n",
            "trying to fetch: /storage/surfsara/ProRail_USE_LL_data/ehv/platform2.1/20210401//EHV_Platform2.1_2021040106_trajectorie.parquet\n",
            "data fetched. Accessible as <this-object>.df\n",
            "targeting path /storage/surfsara/ProRail_USE_LL_data/ehv/platform2.1/20210402/\n",
            "Files listed. Accessible as <this-object>.filelist\n",
            "trying to fetch: /storage/surfsara/ProRail_USE_LL_data/ehv/platform2.1/20210402//EHV_Platform2.1_2021040206_trajectorie.parquet\n",
            "data fetched. Accessible as <this-object>.df\n",
            "targeting path /storage/surfsara/ProRail_USE_LL_data/ehv/platform2.1/20210403/\n",
            "Files listed. Accessible as <this-object>.filelist\n",
            "trying to fetch: /storage/surfsara/ProRail_USE_LL_data/ehv/platform2.1/20210403//EHV_Platform2.1_2021040306_trajectorie.parquet\n",
            "data fetched. Accessible as <this-object>.df\n",
            "targeting path /storage/surfsara/ProRail_USE_LL_data/ehv/platform2.1/20210404/\n",
            "Files listed. Accessible as <this-object>.filelist\n",
            "trying to fetch: /storage/surfsara/ProRail_USE_LL_data/ehv/platform2.1/20210404//EHV_Platform2.1_2021040406_trajectorie.parquet\n",
            "data fetched. Accessible as <this-object>.df\n",
            "targeting path /storage/surfsara/ProRail_USE_LL_data/ehv/platform2.1/20210405/\n",
            "Files listed. Accessible as <this-object>.filelist\n",
            "trying to fetch: /storage/surfsara/ProRail_USE_LL_data/ehv/platform2.1/20210405//EHV_Platform2.1_2021040506_trajectorie.parquet\n",
            "data fetched. Accessible as <this-object>.df\n",
            "targeting path /storage/surfsara/ProRail_USE_LL_data/ehv/platform2.1/20210406/\n",
            "Files listed. Accessible as <this-object>.filelist\n",
            "trying to fetch: /storage/surfsara/ProRail_USE_LL_data/ehv/platform2.1/20210406//EHV_Platform2.1_2021040606_trajectorie.parquet\n",
            "data fetched. Accessible as <this-object>.df\n",
            "targeting path /storage/surfsara/ProRail_USE_LL_data/ehv/platform2.1/20210407/\n",
            "Files listed. Accessible as <this-object>.filelist\n",
            "trying to fetch: /storage/surfsara/ProRail_USE_LL_data/ehv/platform2.1/20210407//EHV_Platform2.1_2021040706_trajectorie.parquet\n",
            "data fetched. Accessible as <this-object>.df\n",
            "targeting path /storage/surfsara/ProRail_USE_LL_data/ehv/platform2.1/20210408/\n",
            "Files listed. Accessible as <this-object>.filelist\n",
            "trying to fetch: /storage/surfsara/ProRail_USE_LL_data/ehv/platform2.1/20210408//EHV_Platform2.1_2021040806_trajectorie.parquet\n",
            "data fetched. Accessible as <this-object>.df\n",
            "targeting path /storage/surfsara/ProRail_USE_LL_data/ehv/platform2.1/20210409/\n",
            "Files listed. Accessible as <this-object>.filelist\n",
            "trying to fetch: /storage/surfsara/ProRail_USE_LL_data/ehv/platform2.1/20210409//EHV_Platform2.1_2021040906_trajectorie.parquet\n",
            "data fetched. Accessible as <this-object>.df\n",
            "targeting path /storage/surfsara/ProRail_USE_LL_data/ehv/platform2.1/20210410/\n",
            "Files listed. Accessible as <this-object>.filelist\n",
            "trying to fetch: /storage/surfsara/ProRail_USE_LL_data/ehv/platform2.1/20210410//EHV_Platform2.1_2021041006_trajectorie.parquet\n",
            "data fetched. Accessible as <this-object>.df\n"
          ]
        }
      ]
    },
    {
      "cell_type": "code",
      "metadata": {
        "id": "vbl727pK1qDg"
      },
      "source": [
        "# sort by tracked object and use central difference formula to compute velocity\n",
        "large_dataframe = large_dataframe.sort_values(by=['tracked_object'])\n",
        "large_dataframe['x_velocity']=np.gradient(large_dataframe['x_pos'])\n",
        "large_dataframe['y_velocity']=np.gradient(large_dataframe['y_pos'])\n",
        "large_dataframe['velocity'] = np.sqrt(large_dataframe['x_velocity']**2 + large_dataframe['y_velocity']**2)"
      ],
      "execution_count": 136,
      "outputs": []
    },
    {
      "cell_type": "code",
      "metadata": {
        "id": "RzSMZyoC2xBz"
      },
      "source": [
        "# choose waiters\n",
        "waiters = large_dataframe[(large_dataframe['velocity']<10) & (large_dataframe['y_pos']<55000)]"
      ],
      "execution_count": 137,
      "outputs": []
    },
    {
      "cell_type": "code",
      "metadata": {
        "id": "UosZvcXfQtxZ"
      },
      "source": [
        "# create heatmap to see where people like to wait\n",
        "H, xedges, yedges = histogram2d(waiters.y_pos,waiters.x_pos,bins=(70,15))\n",
        "H = H.T"
      ],
      "execution_count": 138,
      "outputs": []
    },
    {
      "cell_type": "code",
      "metadata": {
        "colab": {
          "base_uri": "https://localhost:8080/",
          "height": 225
        },
        "id": "L6pn0vHPQ67t",
        "outputId": "4d593c3f-ee52-497c-c916-dac57e131ebc"
      },
      "source": [
        "fig, ax = subplots(figsize=(22, 3))\n",
        "ax.imshow(H,cmap = 'Blues',norm = LogNorm())\n",
        "tight_layout()"
      ],
      "execution_count": 149,
      "outputs": [
        {
          "output_type": "display_data",
          "data": {
            "image/png": "[encoded data removed]",
            "text/plain": [
              "<Figure size 1584x216 with 1 Axes>"
            ]
          },
          "metadata": {
            "needs_background": "light"
          }
        }
      ]
    }
  ]
}