{
 "cells": [
  {
   "cell_type": "code",
   "execution_count": 451,
   "metadata": {},
   "outputs": [],
   "source": [
    "import numpy as np\n",
    "import matplotlib.pyplot as plt\n",
    "import pandas as pd\n",
    "import random\n",
    "from test import *"
   ]
  },
  {
   "cell_type": "code",
   "execution_count": 452,
   "metadata": {},
   "outputs": [
    {
     "data": {
      "text/plain": [
       "array([[2.92634441e-10, 7.17698710e-10, 1.41749644e-09, ...,\n",
       "        4.04828766e-04, 1.99032008e-04, 0.00000000e+00],\n",
       "       [6.17671572e-10, 1.51218932e-09, 2.97999623e-09, ...,\n",
       "        8.03963622e-04, 3.95278105e-04, 0.00000000e+00],\n",
       "       [9.69076812e-10, 2.36837004e-09, 4.65695455e-09, ...,\n",
       "        1.18764409e-03, 5.83934559e-04, 0.00000000e+00],\n",
       "       ...,\n",
       "       [1.65230005e-09, 3.94362813e-09, 7.52447334e-09, ...,\n",
       "        8.78274097e-04, 4.31909437e-04, 0.00000000e+00],\n",
       "       [8.85213354e-10, 2.10974149e-09, 4.01799188e-09, ...,\n",
       "        4.46580174e-04, 2.19622403e-04, 0.00000000e+00],\n",
       "       [0.00000000e+00, 0.00000000e+00, 0.00000000e+00, ...,\n",
       "        0.00000000e+00, 0.00000000e+00, 0.00000000e+00]])"
      ]
     },
     "execution_count": 452,
     "metadata": {},
     "output_type": "execute_result"
    }
   ],
   "source": [
    "# Creating list with 5 ped (Mainly to test program)\n",
    "tot_ped = 5\n",
    "ped = []\n",
    "\n",
    "#Create the platform with it's conditions:\n",
    "phi = np.zeros([20, 150])\n",
    "phi[9,110:120] = 1\n",
    "phi[11,110:120] = 1\n",
    "phi[7,60:90] = 1\n",
    "phi[13,60:90] = 1\n",
    "\n",
    "# Solving laplace equation\n",
    "mp = laplace_eq(phi)\n",
    "mp"
   ]
  },
  {
   "cell_type": "code",
   "execution_count": 453,
   "metadata": {},
   "outputs": [
    {
     "data": {
      "text/plain": [
       "[[[3, 6], [0, 0]],\n",
       " [[9, 4], [0, 0]],\n",
       " [[0, 2], [0, 0]],\n",
       " [[2, 4], [0, 0]],\n",
       " [[5, 5], [0, 0]]]"
      ]
     },
     "execution_count": 453,
     "metadata": {},
     "output_type": "execute_result"
    }
   ],
   "source": [
    "#random.seed(0)\n",
    "# goal, current-location\n",
    "for i in range(0,tot_ped):\n",
    "    ped.append([[random.randint(0,10), random.randint(0,10)], [0, 0]])\n",
    "ped"
   ]
  },
  {
   "cell_type": "markdown",
   "metadata": {},
   "source": [
    "The 9 squares are numbered from the top left to the right:\n",
    "0 1 2 \\n\n",
    "3 4 5 \\n\n",
    "6 7 8\n",
    "Nr. 4 being the current square the pedestrian is standing on"
   ]
  },
  {
   "cell_type": "code",
   "execution_count": 454,
   "metadata": {},
   "outputs": [],
   "source": [
    "def get_prob(ped_ID):\n",
    "    # Get the specific distribution map\n",
    "    # Function: mp = get_prob_map(ped_ID)\n",
    "    # For now a mp with just 1's is used:\n",
    "    # Get current Square:\n",
    "    x = ped[ped_ID][1][0]\n",
    "    y = ped[ped_ID][1][1]\n",
    "    tot = mp[y+1][x-1] + mp[y+1][x] + mp[y+1][x+1] + mp[y][x-1] + mp[y][x] + mp[y][x+1] + mp[y-1][x-1] + mp[y-1][x] + mp[y-1][x+1]\n",
    "    squares = []\n",
    "    for a in range(-1, 2):\n",
    "        for b in range(-1, 2):\n",
    "            # Will have to be changed to the exponential method mentioned by Corbetta\n",
    "            squares.append(mp[y+a][x+b]/tot)\n",
    "    return squares"
   ]
  },
  {
   "cell_type": "code",
   "execution_count": 475,
   "metadata": {},
   "outputs": [],
   "source": [
    "def make_decision(normalized_squares):\n",
    "    sum_prob = 0\n",
    "    choice = random.randint(0, 100)/100\n",
    "    for i in range(0 ,9):\n",
    "        if (choice >= sum_prob) and (choice <= (sum_prob+normalized_squares[i])):\n",
    "\n",
    "            decided_square = i\n",
    "        sum_prob += normalized_squares[i]\n",
    "    return decided_square\n",
    "        "
   ]
  },
  {
   "cell_type": "code",
   "execution_count": 498,
   "metadata": {},
   "outputs": [
    {
     "data": {
      "text/plain": [
       "5"
      ]
     },
     "execution_count": 498,
     "metadata": {},
     "output_type": "execute_result"
    }
   ],
   "source": [
    "prob_sq = get_prob(2)\n",
    "make_decision(prob_sq)"
   ]
  },
  {
   "cell_type": "code",
   "execution_count": null,
   "metadata": {},
   "outputs": [],
   "source": []
  }
 ],
 "metadata": {
  "kernelspec": {
   "display_name": "Python 3",
   "language": "python",
   "name": "python3"
  },
  "language_info": {
   "codemirror_mode": {
    "name": "ipython",
    "version": 3
   },
   "file_extension": ".py",
   "mimetype": "text/x-python",
   "name": "python",
   "nbconvert_exporter": "python",
   "pygments_lexer": "ipython3",
   "version": "3.7.6"
  }
 },
 "nbformat": 4,
 "nbformat_minor": 4
}
