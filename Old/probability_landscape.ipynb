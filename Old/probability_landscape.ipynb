{
 "cells": [
  {
   "cell_type": "code",
   "execution_count": 1,
   "metadata": {
    "colab": {
     "base_uri": "https://localhost:8080/"
    },
    "id": "OBBY1YNl_BPq",
    "outputId": "a519fdc8-b9fa-4a4b-d733-bf320f6a53a5"
   },
   "outputs": [
    {
     "name": "stdout",
     "output_type": "stream",
     "text": [
      "Populating the interactive namespace from numpy and matplotlib\n",
      "Requirement already satisfied: sociophysicsdatahandler in c:\\programdata\\anaconda3\\lib\\site-packages (1.2.4)\n",
      "Requirement already satisfied: pillow in c:\\programdata\\anaconda3\\lib\\site-packages (from sociophysicsdatahandler) (7.0.0)\n",
      "Requirement already satisfied: matplotlib>=2.0 in c:\\programdata\\anaconda3\\lib\\site-packages (from sociophysicsdatahandler) (3.1.3)\n",
      "Requirement already satisfied: scipy>=1.4 in c:\\programdata\\anaconda3\\lib\\site-packages (from sociophysicsdatahandler) (1.4.1)\n",
      "Requirement already satisfied: pyocclient in c:\\programdata\\anaconda3\\lib\\site-packages (from sociophysicsdatahandler) (0.6)\n",
      "Requirement already satisfied: pyarrow in c:\\programdata\\anaconda3\\lib\\site-packages (from sociophysicsdatahandler) (6.0.1)\n",
      "Requirement already satisfied: pandas in c:\\programdata\\anaconda3\\lib\\site-packages (from sociophysicsdatahandler) (1.0.1)\n",
      "Requirement already satisfied: numpy>=1.8 in c:\\programdata\\anaconda3\\lib\\site-packages (from sociophysicsdatahandler) (1.18.1)\n",
      "Requirement already satisfied: cycler>=0.10 in c:\\programdata\\anaconda3\\lib\\site-packages (from matplotlib>=2.0->sociophysicsdatahandler) (0.10.0)\n",
      "Requirement already satisfied: python-dateutil>=2.1 in c:\\programdata\\anaconda3\\lib\\site-packages (from matplotlib>=2.0->sociophysicsdatahandler) (2.8.1)\n",
      "Requirement already satisfied: kiwisolver>=1.0.1 in c:\\programdata\\anaconda3\\lib\\site-packages (from matplotlib>=2.0->sociophysicsdatahandler) (1.1.0)\n",
      "Requirement already satisfied: pyparsing!=2.0.4,!=2.1.2,!=2.1.6,>=2.0.1 in c:\\programdata\\anaconda3\\lib\\site-packages (from matplotlib>=2.0->sociophysicsdatahandler) (2.4.6)\n",
      "Requirement already satisfied: requests>=2.0.1 in c:\\programdata\\anaconda3\\lib\\site-packages (from pyocclient->sociophysicsdatahandler) (2.22.0)\n",
      "Requirement already satisfied: six in c:\\programdata\\anaconda3\\lib\\site-packages (from pyocclient->sociophysicsdatahandler) (1.14.0)\n",
      "Requirement already satisfied: pytz>=2017.2 in c:\\programdata\\anaconda3\\lib\\site-packages (from pandas->sociophysicsdatahandler) (2019.3)\n",
      "Requirement already satisfied: setuptools in c:\\programdata\\anaconda3\\lib\\site-packages (from kiwisolver>=1.0.1->matplotlib>=2.0->sociophysicsdatahandler) (45.2.0.post20200210)\n",
      "Requirement already satisfied: chardet<3.1.0,>=3.0.2 in c:\\programdata\\anaconda3\\lib\\site-packages (from requests>=2.0.1->pyocclient->sociophysicsdatahandler) (3.0.4)\n",
      "Requirement already satisfied: certifi>=2017.4.17 in c:\\programdata\\anaconda3\\lib\\site-packages (from requests>=2.0.1->pyocclient->sociophysicsdatahandler) (2019.11.28)\n",
      "Requirement already satisfied: idna<2.9,>=2.5 in c:\\programdata\\anaconda3\\lib\\site-packages (from requests>=2.0.1->pyocclient->sociophysicsdatahandler) (2.8)\n",
      "Requirement already satisfied: urllib3!=1.25.0,!=1.25.1,<1.26,>=1.21.1 in c:\\programdata\\anaconda3\\lib\\site-packages (from requests>=2.0.1->pyocclient->sociophysicsdatahandler) (1.25.8)\n"
     ]
    }
   ],
   "source": [
    "import numpy as np\n",
    "import matplotlib.pyplot as plt\n",
    "import pandas as pd\n",
    "from scipy.stats import entropy\n",
    "import math as math\n",
    "import seaborn as sns\n",
    "from matplotlib.colors import LogNorm\n",
    "%pylab inline\n",
    "\n",
    "!pip install sociophysicsdatahandler"
   ]
  },
  {
   "cell_type": "code",
   "execution_count": 2,
   "metadata": {
    "colab": {
     "base_uri": "https://localhost:8080/"
    },
    "id": "F2EDPdq3_J7Z",
    "outputId": "9a4da7f3-b0b4-4cac-ddea-74842e783c3e"
   },
   "outputs": [
    {
     "name": "stderr",
     "output_type": "stream",
     "text": [
      "'cat' is not recognized as an internal or external command,\n",
      "operable program or batch file.\n"
     ]
    }
   ],
   "source": [
    "from sociophysicsDataHandler import SociophysicsDataHandler\n",
    "!cat auth.txt"
   ]
  },
  {
   "cell_type": "code",
   "execution_count": 3,
   "metadata": {
    "id": "e9vcj1Tr4SAc"
   },
   "outputs": [],
   "source": [
    "dh = SociophysicsDataHandler()\n",
    "pd.set_option('float_format', '{:f}'.format)"
   ]
  },
  {
   "cell_type": "code",
   "execution_count": 4,
   "metadata": {
    "id": "-1jISpZqTuWn"
   },
   "outputs": [],
   "source": [
    "# dates\n",
    "list_days = ['20210401','20210402','20210403','20210404','20210405','20210406','20210407','20210408','20210409','20210410']"
   ]
  },
  {
   "cell_type": "code",
   "execution_count": 5,
   "metadata": {
    "colab": {
     "base_uri": "https://localhost:8080/"
    },
    "id": "hwk4jOsEx927",
    "outputId": "4bfee120-3cdf-4997-b612-c21ac2a3e172"
   },
   "outputs": [
    {
     "name": "stdout",
     "output_type": "stream",
     "text": [
      "targeting path /storage/surfsara/ProRail_USE_LL_data/ehv/platform2.1/20210401/\n",
      "Files listed. Accessible as <this-object>.filelist\n",
      "trying to fetch: /storage/surfsara/ProRail_USE_LL_data/ehv/platform2.1/20210401//EHV_Platform2.1_2021040106_trajectorie.parquet\n",
      "data fetched. Accessible as <this-object>.df\n",
      "targeting path /storage/surfsara/ProRail_USE_LL_data/ehv/platform2.1/20210402/\n",
      "Files listed. Accessible as <this-object>.filelist\n",
      "trying to fetch: /storage/surfsara/ProRail_USE_LL_data/ehv/platform2.1/20210402//EHV_Platform2.1_2021040206_trajectorie.parquet\n",
      "data fetched. Accessible as <this-object>.df\n",
      "targeting path /storage/surfsara/ProRail_USE_LL_data/ehv/platform2.1/20210403/\n",
      "Files listed. Accessible as <this-object>.filelist\n",
      "trying to fetch: /storage/surfsara/ProRail_USE_LL_data/ehv/platform2.1/20210403//EHV_Platform2.1_2021040306_trajectorie.parquet\n",
      "data fetched. Accessible as <this-object>.df\n",
      "targeting path /storage/surfsara/ProRail_USE_LL_data/ehv/platform2.1/20210404/\n",
      "Files listed. Accessible as <this-object>.filelist\n",
      "trying to fetch: /storage/surfsara/ProRail_USE_LL_data/ehv/platform2.1/20210404//EHV_Platform2.1_2021040406_trajectorie.parquet\n",
      "data fetched. Accessible as <this-object>.df\n",
      "targeting path /storage/surfsara/ProRail_USE_LL_data/ehv/platform2.1/20210405/\n",
      "Files listed. Accessible as <this-object>.filelist\n",
      "trying to fetch: /storage/surfsara/ProRail_USE_LL_data/ehv/platform2.1/20210405//EHV_Platform2.1_2021040506_trajectorie.parquet\n",
      "data fetched. Accessible as <this-object>.df\n",
      "targeting path /storage/surfsara/ProRail_USE_LL_data/ehv/platform2.1/20210406/\n",
      "Files listed. Accessible as <this-object>.filelist\n",
      "trying to fetch: /storage/surfsara/ProRail_USE_LL_data/ehv/platform2.1/20210406//EHV_Platform2.1_2021040606_trajectorie.parquet\n",
      "data fetched. Accessible as <this-object>.df\n",
      "targeting path /storage/surfsara/ProRail_USE_LL_data/ehv/platform2.1/20210407/\n",
      "Files listed. Accessible as <this-object>.filelist\n",
      "trying to fetch: /storage/surfsara/ProRail_USE_LL_data/ehv/platform2.1/20210407//EHV_Platform2.1_2021040706_trajectorie.parquet\n",
      "data fetched. Accessible as <this-object>.df\n",
      "targeting path /storage/surfsara/ProRail_USE_LL_data/ehv/platform2.1/20210408/\n",
      "Files listed. Accessible as <this-object>.filelist\n",
      "trying to fetch: /storage/surfsara/ProRail_USE_LL_data/ehv/platform2.1/20210408//EHV_Platform2.1_2021040806_trajectorie.parquet\n",
      "data fetched. Accessible as <this-object>.df\n",
      "targeting path /storage/surfsara/ProRail_USE_LL_data/ehv/platform2.1/20210409/\n",
      "Files listed. Accessible as <this-object>.filelist\n",
      "trying to fetch: /storage/surfsara/ProRail_USE_LL_data/ehv/platform2.1/20210409//EHV_Platform2.1_2021040906_trajectorie.parquet\n",
      "data fetched. Accessible as <this-object>.df\n",
      "targeting path /storage/surfsara/ProRail_USE_LL_data/ehv/platform2.1/20210410/\n",
      "Files listed. Accessible as <this-object>.filelist\n",
      "trying to fetch: /storage/surfsara/ProRail_USE_LL_data/ehv/platform2.1/20210410//EHV_Platform2.1_2021041006_trajectorie.parquet\n",
      "data fetched. Accessible as <this-object>.df\n"
     ]
    }
   ],
   "source": [
    "# concat multiple dates worth of data in one large dataframe\n",
    "df_list = []\n",
    "for i in list_days:\n",
    "  try:\n",
    "    file_path = 'ehv/platform2.1' + '/' + i + '/'\n",
    "    flst = dh.list_files(file_path)\n",
    "\n",
    "    dh.fetch_prorail_data_from_path(file_path + '/' + flst.name[6])\n",
    "    df_list.append(dh.df)\n",
    "  except:\n",
    "    pass\n",
    "large_dataframe = pd.concat(df_list)"
   ]
  },
  {
   "cell_type": "code",
   "execution_count": 6,
   "metadata": {
    "id": "vbl727pK1qDg"
   },
   "outputs": [],
   "source": [
    "# sort by tracked object and use central difference formula to compute velocity\n",
    "large_dataframe = large_dataframe.sort_values(by=['tracked_object'])\n",
    "large_dataframe['x_velocity']=np.gradient(large_dataframe['x_pos'])\n",
    "large_dataframe['y_velocity']=np.gradient(large_dataframe['y_pos'])\n",
    "large_dataframe['velocity'] = np.sqrt(large_dataframe['x_velocity']**2 + large_dataframe['y_velocity']**2)"
   ]
  },
  {
   "cell_type": "code",
   "execution_count": 11,
   "metadata": {},
   "outputs": [
    {
     "data": {
      "text/html": [
       "<div>\n",
       "<style scoped>\n",
       "    .dataframe tbody tr th:only-of-type {\n",
       "        vertical-align: middle;\n",
       "    }\n",
       "\n",
       "    .dataframe tbody tr th {\n",
       "        vertical-align: top;\n",
       "    }\n",
       "\n",
       "    .dataframe thead th {\n",
       "        text-align: right;\n",
       "    }\n",
       "</style>\n",
       "<table border=\"1\" class=\"dataframe\">\n",
       "  <thead>\n",
       "    <tr style=\"text-align: right;\">\n",
       "      <th></th>\n",
       "      <th>date_time_utc</th>\n",
       "      <th>tracked_object</th>\n",
       "      <th>x_pos</th>\n",
       "      <th>y_pos</th>\n",
       "      <th>x_velocity</th>\n",
       "      <th>y_velocity</th>\n",
       "      <th>velocity</th>\n",
       "    </tr>\n",
       "  </thead>\n",
       "  <tbody>\n",
       "    <tr>\n",
       "      <th>0</th>\n",
       "      <td>1617256800000.000000</td>\n",
       "      <td>45261</td>\n",
       "      <td>-1373.000000</td>\n",
       "      <td>16271.000000</td>\n",
       "      <td>251.000000</td>\n",
       "      <td>-25.000000</td>\n",
       "      <td>252.241943</td>\n",
       "    </tr>\n",
       "    <tr>\n",
       "      <th>12791</th>\n",
       "      <td>1617257131600.000000</td>\n",
       "      <td>45261</td>\n",
       "      <td>-1122.000000</td>\n",
       "      <td>16246.000000</td>\n",
       "      <td>118.500000</td>\n",
       "      <td>-13.500000</td>\n",
       "      <td>119.266510</td>\n",
       "    </tr>\n",
       "    <tr>\n",
       "      <th>12795</th>\n",
       "      <td>1617257131700.000000</td>\n",
       "      <td>45261</td>\n",
       "      <td>-1136.000000</td>\n",
       "      <td>16244.000000</td>\n",
       "      <td>-8.000000</td>\n",
       "      <td>-8.000000</td>\n",
       "      <td>11.313708</td>\n",
       "    </tr>\n",
       "    <tr>\n",
       "      <th>12799</th>\n",
       "      <td>1617257131800.000000</td>\n",
       "      <td>45261</td>\n",
       "      <td>-1138.000000</td>\n",
       "      <td>16230.000000</td>\n",
       "      <td>2.500000</td>\n",
       "      <td>-14.000000</td>\n",
       "      <td>14.221462</td>\n",
       "    </tr>\n",
       "    <tr>\n",
       "      <th>12803</th>\n",
       "      <td>1617257131900.000000</td>\n",
       "      <td>45261</td>\n",
       "      <td>-1131.000000</td>\n",
       "      <td>16216.000000</td>\n",
       "      <td>0.500000</td>\n",
       "      <td>0.500000</td>\n",
       "      <td>0.707107</td>\n",
       "    </tr>\n",
       "  </tbody>\n",
       "</table>\n",
       "</div>"
      ],
      "text/plain": [
       "             date_time_utc  tracked_object        x_pos        y_pos  \\\n",
       "0     1617256800000.000000           45261 -1373.000000 16271.000000   \n",
       "12791 1617257131600.000000           45261 -1122.000000 16246.000000   \n",
       "12795 1617257131700.000000           45261 -1136.000000 16244.000000   \n",
       "12799 1617257131800.000000           45261 -1138.000000 16230.000000   \n",
       "12803 1617257131900.000000           45261 -1131.000000 16216.000000   \n",
       "\n",
       "       x_velocity  y_velocity   velocity  \n",
       "0      251.000000  -25.000000 252.241943  \n",
       "12791  118.500000  -13.500000 119.266510  \n",
       "12795   -8.000000   -8.000000  11.313708  \n",
       "12799    2.500000  -14.000000  14.221462  \n",
       "12803    0.500000    0.500000   0.707107  "
      ]
     },
     "execution_count": 11,
     "metadata": {},
     "output_type": "execute_result"
    }
   ],
   "source": [
    "large_dataframe.head()"
   ]
  },
  {
   "cell_type": "code",
   "execution_count": 7,
   "metadata": {
    "id": "RzSMZyoC2xBz"
   },
   "outputs": [],
   "source": [
    "# choose waiters\n",
    "waiters = large_dataframe[(large_dataframe['velocity']<10) & (large_dataframe['y_pos']<70000)]"
   ]
  },
  {
   "cell_type": "code",
   "execution_count": 8,
   "metadata": {
    "id": "UosZvcXfQtxZ"
   },
   "outputs": [],
   "source": [
    "# create heatmap to see where people like to wait\n",
    "H, xedges, yedges = histogram2d(waiters.y_pos,waiters.x_pos,bins=(150,30))\n",
    "H = H.T"
   ]
  },
  {
   "cell_type": "code",
   "execution_count": 9,
   "metadata": {
    "id": "_5nqMnsmW21c"
   },
   "outputs": [],
   "source": [
    "# remove unwanted datapoints such as the high values at the stairs,\n",
    "# h is now the probability landscape\n",
    "H[16:21,127:138]=10\n",
    "h = H[7:-1]"
   ]
  },
  {
   "cell_type": "code",
   "execution_count": 10,
   "metadata": {
    "colab": {
     "base_uri": "https://localhost:8080/",
     "height": 204
    },
    "id": "L6pn0vHPQ67t",
    "outputId": "48e07096-8c82-43d3-c49c-013c59332e8e"
   },
   "outputs": [
    {
     "data": {
      "image/png": "[encoded data removed]",
      "text/plain": [
       "<Figure size 1584x216 with 1 Axes>"
      ]
     },
     "metadata": {
      "needs_background": "light"
     },
     "output_type": "display_data"
    }
   ],
   "source": [
    "fig, ax = subplots(figsize=(22, 3))\n",
    "ax.imshow(h,cmap = 'Blues',norm = LogNorm())\n",
    "tight_layout()"
   ]
  },
  {
   "cell_type": "markdown",
   "metadata": {
    "id": "G8tpj64Yh9ji"
   },
   "source": [
    "idea: to make this time dependent, use the heat equation to average the probability landscape when the train arrives."
   ]
  }
 ],
 "metadata": {
  "colab": {
   "collapsed_sections": [],
   "name": "probability_landscape.ipynb",
   "provenance": []
  },
  "kernelspec": {
   "display_name": "Python 3",
   "language": "python",
   "name": "python3"
  },
  "language_info": {
   "codemirror_mode": {
    "name": "ipython",
    "version": 3
   },
   "file_extension": ".py",
   "mimetype": "text/x-python",
   "name": "python",
   "nbconvert_exporter": "python",
   "pygments_lexer": "ipython3",
   "version": "3.7.6"
  }
 },
 "nbformat": 4,
 "nbformat_minor": 1
}
