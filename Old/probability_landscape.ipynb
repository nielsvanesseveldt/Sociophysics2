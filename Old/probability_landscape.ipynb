{
 "cells": [
  {
   "cell_type": "code",
   "execution_count": 3,
   "metadata": {
    "colab": {
     "base_uri": "https://localhost:8080/"
    },
    "id": "OBBY1YNl_BPq",
    "outputId": "a519fdc8-b9fa-4a4b-d733-bf320f6a53a5"
   },
   "outputs": [
    {
     "name": "stdout",
     "output_type": "stream",
     "text": [
      "Populating the interactive namespace from numpy and matplotlib\n",
      "Requirement already satisfied: sociophysicsdatahandler in c:\\programdata\\anaconda3\\lib\\site-packages (1.1.0)\n",
      "Requirement already satisfied: pillow in c:\\programdata\\anaconda3\\lib\\site-packages (from sociophysicsdatahandler) (7.0.0)\n",
      "Requirement already satisfied: scipy>=1.4 in c:\\programdata\\anaconda3\\lib\\site-packages (from sociophysicsdatahandler) (1.4.1)\n",
      "Requirement already satisfied: pandas in c:\\programdata\\anaconda3\\lib\\site-packages (from sociophysicsdatahandler) (1.0.1)\n",
      "Requirement already satisfied: pyarrow in c:\\programdata\\anaconda3\\lib\\site-packages (from sociophysicsdatahandler) (5.0.0)\n",
      "Requirement already satisfied: pyocclient in c:\\programdata\\anaconda3\\lib\\site-packages (from sociophysicsdatahandler) (0.6)\n",
      "Requirement already satisfied: numpy>=1.8 in c:\\programdata\\anaconda3\\lib\\site-packages (from sociophysicsdatahandler) (1.18.1)\n",
      "Requirement already satisfied: matplotlib>=2.0 in c:\\programdata\\anaconda3\\lib\\site-packages (from sociophysicsdatahandler) (3.1.3)\n",
      "Requirement already satisfied: pytz>=2017.2 in c:\\programdata\\anaconda3\\lib\\site-packages (from pandas->sociophysicsdatahandler) (2019.3)\n",
      "Requirement already satisfied: python-dateutil>=2.6.1 in c:\\programdata\\anaconda3\\lib\\site-packages (from pandas->sociophysicsdatahandler) (2.8.1)\n",
      "Requirement already satisfied: requests>=2.0.1 in c:\\programdata\\anaconda3\\lib\\site-packages (from pyocclient->sociophysicsdatahandler) (2.22.0)\n",
      "Requirement already satisfied: six in c:\\programdata\\anaconda3\\lib\\site-packages (from pyocclient->sociophysicsdatahandler) (1.14.0)\n",
      "Requirement already satisfied: cycler>=0.10 in c:\\programdata\\anaconda3\\lib\\site-packages (from matplotlib>=2.0->sociophysicsdatahandler) (0.10.0)\n",
      "Requirement already satisfied: pyparsing!=2.0.4,!=2.1.2,!=2.1.6,>=2.0.1 in c:\\programdata\\anaconda3\\lib\\site-packages (from matplotlib>=2.0->sociophysicsdatahandler) (2.4.6)\n",
      "Requirement already satisfied: kiwisolver>=1.0.1 in c:\\programdata\\anaconda3\\lib\\site-packages (from matplotlib>=2.0->sociophysicsdatahandler) (1.0.1)\n",
      "Requirement already satisfied: urllib3!=1.25.0,!=1.25.1,<1.26,>=1.21.1 in c:\\programdata\\anaconda3\\lib\\site-packages (from requests>=2.0.1->pyocclient->sociophysicsdatahandler) (1.25.8)\n",
      "Requirement already satisfied: idna<2.9,>=2.5 in c:\\programdata\\anaconda3\\lib\\site-packages (from requests>=2.0.1->pyocclient->sociophysicsdatahandler) (2.8)\n",
      "Requirement already satisfied: chardet<3.1.0,>=3.0.2 in c:\\programdata\\anaconda3\\lib\\site-packages (from requests>=2.0.1->pyocclient->sociophysicsdatahandler) (3.0.4)\n",
      "Requirement already satisfied: certifi>=2017.4.17 in c:\\programdata\\anaconda3\\lib\\site-packages (from requests>=2.0.1->pyocclient->sociophysicsdatahandler) (2019.11.28)\n",
      "Requirement already satisfied: setuptools in c:\\programdata\\anaconda3\\lib\\site-packages (from kiwisolver>=1.0.1->matplotlib>=2.0->sociophysicsdatahandler) (45.2.0.post20200210)\n"
     ]
    }
   ],
   "source": [
    "import numpy as np\n",
    "import matplotlib.pyplot as plt\n",
    "import pandas as pd\n",
    "from scipy.stats import entropy\n",
    "import math as math\n",
    "import seaborn as sns\n",
    "from matplotlib.colors import LogNorm\n",
    "%pylab inline\n",
    "\n",
    "!pip install sociophysicsdatahandler"
   ]
  },
  {
   "cell_type": "code",
   "execution_count": 4,
   "metadata": {
    "colab": {
     "base_uri": "https://localhost:8080/"
    },
    "id": "F2EDPdq3_J7Z",
    "outputId": "9a4da7f3-b0b4-4cac-ddea-74842e783c3e"
   },
   "outputs": [
    {
     "name": "stderr",
     "output_type": "stream",
     "text": [
      "'cat' is not recognized as an internal or external command,\n",
      "operable program or batch file.\n"
     ]
    }
   ],
   "source": [
    "from sociophysicsDataHandler import SociophysicsDataHandler\n",
    "!cat auth.txt"
   ]
  },
  {
   "cell_type": "code",
   "execution_count": 5,
   "metadata": {
    "id": "e9vcj1Tr4SAc"
   },
   "outputs": [
    {
     "name": "stdout",
     "output_type": "stream",
     "text": [
      "Login error. \n",
      "HTTP error: 401\n"
     ]
    }
   ],
   "source": [
    "dh = SociophysicsDataHandler()\n",
    "pd.set_option('float_format', '{:f}'.format)"
   ]
  },
  {
   "cell_type": "code",
   "execution_count": 6,
   "metadata": {
    "id": "-1jISpZqTuWn"
   },
   "outputs": [],
   "source": [
    "# dates\n",
    "list_days = ['20210401','20210402','20210403','20210404','20210405','20210406','20210407','20210408','20210409','20210410']"
   ]
  },
  {
   "cell_type": "code",
   "execution_count": 7,
   "metadata": {
    "colab": {
     "base_uri": "https://localhost:8080/"
    },
    "id": "hwk4jOsEx927",
    "outputId": "4bfee120-3cdf-4997-b612-c21ac2a3e172"
   },
   "outputs": [
    {
     "name": "stdout",
     "output_type": "stream",
     "text": [
      "targeting path /ProRail_USE_LL_data\\ehv/platform2.1/20210401/\n",
      "targeting path /ProRail_USE_LL_data\\ehv/platform2.1/20210402/\n",
      "targeting path /ProRail_USE_LL_data\\ehv/platform2.1/20210403/\n",
      "targeting path /ProRail_USE_LL_data\\ehv/platform2.1/20210404/\n",
      "targeting path /ProRail_USE_LL_data\\ehv/platform2.1/20210405/\n",
      "targeting path /ProRail_USE_LL_data\\ehv/platform2.1/20210406/\n",
      "targeting path /ProRail_USE_LL_data\\ehv/platform2.1/20210407/\n",
      "targeting path /ProRail_USE_LL_data\\ehv/platform2.1/20210408/\n",
      "targeting path /ProRail_USE_LL_data\\ehv/platform2.1/20210409/\n",
      "targeting path /ProRail_USE_LL_data\\ehv/platform2.1/20210410/\n"
     ]
    },
    {
     "ename": "ValueError",
     "evalue": "No objects to concatenate",
     "output_type": "error",
     "traceback": [
      "\u001b[1;31m---------------------------------------------------------------------------\u001b[0m",
      "\u001b[1;31mValueError\u001b[0m                                Traceback (most recent call last)",
      "\u001b[1;32m<ipython-input-7-8fd884eb5e00>\u001b[0m in \u001b[0;36m<module>\u001b[1;34m\u001b[0m\n\u001b[0;32m     10\u001b[0m   \u001b[1;32mexcept\u001b[0m\u001b[1;33m:\u001b[0m\u001b[1;33m\u001b[0m\u001b[1;33m\u001b[0m\u001b[0m\n\u001b[0;32m     11\u001b[0m     \u001b[1;32mpass\u001b[0m\u001b[1;33m\u001b[0m\u001b[1;33m\u001b[0m\u001b[0m\n\u001b[1;32m---> 12\u001b[1;33m \u001b[0mlarge_dataframe\u001b[0m \u001b[1;33m=\u001b[0m \u001b[0mpd\u001b[0m\u001b[1;33m.\u001b[0m\u001b[0mconcat\u001b[0m\u001b[1;33m(\u001b[0m\u001b[0mdf_list\u001b[0m\u001b[1;33m)\u001b[0m\u001b[1;33m\u001b[0m\u001b[1;33m\u001b[0m\u001b[0m\n\u001b[0m",
      "\u001b[1;32mC:\\ProgramData\\Anaconda3\\lib\\site-packages\\pandas\\core\\reshape\\concat.py\u001b[0m in \u001b[0;36mconcat\u001b[1;34m(objs, axis, join, ignore_index, keys, levels, names, verify_integrity, sort, copy)\u001b[0m\n\u001b[0;32m    269\u001b[0m     \u001b[0mValueError\u001b[0m\u001b[1;33m:\u001b[0m \u001b[0mIndexes\u001b[0m \u001b[0mhave\u001b[0m \u001b[0moverlapping\u001b[0m \u001b[0mvalues\u001b[0m\u001b[1;33m:\u001b[0m \u001b[1;33m[\u001b[0m\u001b[1;34m'a'\u001b[0m\u001b[1;33m]\u001b[0m\u001b[1;33m\u001b[0m\u001b[1;33m\u001b[0m\u001b[0m\n\u001b[0;32m    270\u001b[0m     \"\"\"\n\u001b[1;32m--> 271\u001b[1;33m     op = _Concatenator(\n\u001b[0m\u001b[0;32m    272\u001b[0m         \u001b[0mobjs\u001b[0m\u001b[1;33m,\u001b[0m\u001b[1;33m\u001b[0m\u001b[1;33m\u001b[0m\u001b[0m\n\u001b[0;32m    273\u001b[0m         \u001b[0maxis\u001b[0m\u001b[1;33m=\u001b[0m\u001b[0maxis\u001b[0m\u001b[1;33m,\u001b[0m\u001b[1;33m\u001b[0m\u001b[1;33m\u001b[0m\u001b[0m\n",
      "\u001b[1;32mC:\\ProgramData\\Anaconda3\\lib\\site-packages\\pandas\\core\\reshape\\concat.py\u001b[0m in \u001b[0;36m__init__\u001b[1;34m(self, objs, axis, join, keys, levels, names, ignore_index, verify_integrity, copy, sort)\u001b[0m\n\u001b[0;32m    327\u001b[0m \u001b[1;33m\u001b[0m\u001b[0m\n\u001b[0;32m    328\u001b[0m         \u001b[1;32mif\u001b[0m \u001b[0mlen\u001b[0m\u001b[1;33m(\u001b[0m\u001b[0mobjs\u001b[0m\u001b[1;33m)\u001b[0m \u001b[1;33m==\u001b[0m \u001b[1;36m0\u001b[0m\u001b[1;33m:\u001b[0m\u001b[1;33m\u001b[0m\u001b[1;33m\u001b[0m\u001b[0m\n\u001b[1;32m--> 329\u001b[1;33m             \u001b[1;32mraise\u001b[0m \u001b[0mValueError\u001b[0m\u001b[1;33m(\u001b[0m\u001b[1;34m\"No objects to concatenate\"\u001b[0m\u001b[1;33m)\u001b[0m\u001b[1;33m\u001b[0m\u001b[1;33m\u001b[0m\u001b[0m\n\u001b[0m\u001b[0;32m    330\u001b[0m \u001b[1;33m\u001b[0m\u001b[0m\n\u001b[0;32m    331\u001b[0m         \u001b[1;32mif\u001b[0m \u001b[0mkeys\u001b[0m \u001b[1;32mis\u001b[0m \u001b[1;32mNone\u001b[0m\u001b[1;33m:\u001b[0m\u001b[1;33m\u001b[0m\u001b[1;33m\u001b[0m\u001b[0m\n",
      "\u001b[1;31mValueError\u001b[0m: No objects to concatenate"
     ]
    }
   ],
   "source": [
    "# concat multiple dates worth of data in one large dataframe\n",
    "df_list = []\n",
    "for i in list_days:\n",
    "  try:\n",
    "    file_path = 'ehv/platform2.1' + '/' + i + '/'\n",
    "    flst = dh.list_files(file_path)\n",
    "\n",
    "    dh.fetch_prorail_data_from_path(file_path + '/' + flst.name[6])\n",
    "    df_list.append(dh.df)\n",
    "  except:\n",
    "    pass\n",
    "large_dataframe = pd.concat(df_list)"
   ]
  },
  {
   "cell_type": "code",
   "execution_count": null,
   "metadata": {
    "id": "vbl727pK1qDg"
   },
   "outputs": [],
   "source": [
    "# sort by tracked object and use central difference formula to compute velocity\n",
    "large_dataframe = large_dataframe.sort_values(by=['tracked_object'])\n",
    "large_dataframe['x_velocity']=np.gradient(large_dataframe['x_pos'])\n",
    "large_dataframe['y_velocity']=np.gradient(large_dataframe['y_pos'])\n",
    "large_dataframe['velocity'] = np.sqrt(large_dataframe['x_velocity']**2 + large_dataframe['y_velocity']**2)"
   ]
  },
  {
   "cell_type": "code",
   "execution_count": null,
   "metadata": {
    "id": "RzSMZyoC2xBz"
   },
   "outputs": [],
   "source": [
    "# choose waiters\n",
    "waiters = large_dataframe[(large_dataframe['velocity']<10) & (large_dataframe['y_pos']<70000)]"
   ]
  },
  {
   "cell_type": "code",
   "execution_count": null,
   "metadata": {
    "id": "UosZvcXfQtxZ"
   },
   "outputs": [],
   "source": [
    "# create heatmap to see where people like to wait\n",
    "H, xedges, yedges = histogram2d(waiters.y_pos,waiters.x_pos,bins=(150,30))\n",
    "H = H.T"
   ]
  },
  {
   "cell_type": "code",
   "execution_count": null,
   "metadata": {
    "id": "_5nqMnsmW21c"
   },
   "outputs": [],
   "source": [
    "# remove unwanted datapoints such as the high values at the stairs,\n",
    "# h is now the probability landscape\n",
    "H[16:21,127:138]=10\n",
    "h = H[7:-1]"
   ]
  },
  {
   "cell_type": "code",
   "execution_count": null,
   "metadata": {
    "colab": {
     "base_uri": "https://localhost:8080/",
     "height": 204
    },
    "id": "L6pn0vHPQ67t",
    "outputId": "48e07096-8c82-43d3-c49c-013c59332e8e"
   },
   "outputs": [],
   "source": [
    "fig, ax = subplots(figsize=(22, 3))\n",
    "ax.imshow(h,cmap = 'Blues',norm = LogNorm())\n",
    "tight_layout()"
   ]
  },
  {
   "cell_type": "markdown",
   "metadata": {
    "id": "G8tpj64Yh9ji"
   },
   "source": [
    "idea: to make this time dependent, use the heat equation to average the probability landscape when the train arrives."
   ]
  }
 ],
 "metadata": {
  "colab": {
   "collapsed_sections": [],
   "name": "probability_landscape.ipynb",
   "provenance": []
  },
  "kernelspec": {
   "display_name": "Python 3",
   "language": "python",
   "name": "python3"
  },
  "language_info": {
   "codemirror_mode": {
    "name": "ipython",
    "version": 3
   },
   "file_extension": ".py",
   "mimetype": "text/x-python",
   "name": "python",
   "nbconvert_exporter": "python",
   "pygments_lexer": "ipython3",
   "version": "3.8.1"
  }
 },
 "nbformat": 4,
 "nbformat_minor": 1
}
