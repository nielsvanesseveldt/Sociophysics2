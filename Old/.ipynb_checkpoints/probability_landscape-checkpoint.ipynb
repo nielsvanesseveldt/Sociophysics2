{
 "cells": [
  {
   "cell_type": "code",
   "execution_count": 1,
   "metadata": {
    "colab": {
     "base_uri": "https://localhost:8080/"
    },
    "id": "OBBY1YNl_BPq",
    "outputId": "a519fdc8-b9fa-4a4b-d733-bf320f6a53a5"
   },
   "outputs": [
    {
     "name": "stdout",
     "output_type": "stream",
     "text": [
      "Populating the interactive namespace from numpy and matplotlib\n",
      "Collecting sociophysicsdatahandler\n",
      "  Downloading sociophysicsDataHandler-1.2.2.tar.gz (6.4 kB)\n",
      "Requirement already satisfied: numpy>=1.8 in /usr/local/lib/python3.7/dist-packages (from sociophysicsdatahandler) (1.19.5)\n",
      "Requirement already satisfied: matplotlib>=2.0 in /usr/local/lib/python3.7/dist-packages (from sociophysicsdatahandler) (3.2.2)\n",
      "Requirement already satisfied: scipy>=1.4 in /usr/local/lib/python3.7/dist-packages (from sociophysicsdatahandler) (1.4.1)\n",
      "Collecting pyocclient\n",
      "  Downloading pyocclient-0.6.tar.gz (28 kB)\n",
      "Requirement already satisfied: pyarrow in /usr/local/lib/python3.7/dist-packages (from sociophysicsdatahandler) (3.0.0)\n",
      "Requirement already satisfied: pandas in /usr/local/lib/python3.7/dist-packages (from sociophysicsdatahandler) (1.1.5)\n",
      "Requirement already satisfied: pillow in /usr/local/lib/python3.7/dist-packages (from sociophysicsdatahandler) (7.1.2)\n",
      "Requirement already satisfied: kiwisolver>=1.0.1 in /usr/local/lib/python3.7/dist-packages (from matplotlib>=2.0->sociophysicsdatahandler) (1.3.2)\n",
      "Requirement already satisfied: cycler>=0.10 in /usr/local/lib/python3.7/dist-packages (from matplotlib>=2.0->sociophysicsdatahandler) (0.11.0)\n",
      "Requirement already satisfied: python-dateutil>=2.1 in /usr/local/lib/python3.7/dist-packages (from matplotlib>=2.0->sociophysicsdatahandler) (2.8.2)\n",
      "Requirement already satisfied: pyparsing!=2.0.4,!=2.1.2,!=2.1.6,>=2.0.1 in /usr/local/lib/python3.7/dist-packages (from matplotlib>=2.0->sociophysicsdatahandler) (3.0.6)\n",
      "Requirement already satisfied: six>=1.5 in /usr/local/lib/python3.7/dist-packages (from python-dateutil>=2.1->matplotlib>=2.0->sociophysicsdatahandler) (1.15.0)\n",
      "Requirement already satisfied: pytz>=2017.2 in /usr/local/lib/python3.7/dist-packages (from pandas->sociophysicsdatahandler) (2018.9)\n",
      "Requirement already satisfied: requests>=2.0.1 in /usr/local/lib/python3.7/dist-packages (from pyocclient->sociophysicsdatahandler) (2.23.0)\n",
      "Requirement already satisfied: chardet<4,>=3.0.2 in /usr/local/lib/python3.7/dist-packages (from requests>=2.0.1->pyocclient->sociophysicsdatahandler) (3.0.4)\n",
      "Requirement already satisfied: urllib3!=1.25.0,!=1.25.1,<1.26,>=1.21.1 in /usr/local/lib/python3.7/dist-packages (from requests>=2.0.1->pyocclient->sociophysicsdatahandler) (1.24.3)\n",
      "Requirement already satisfied: certifi>=2017.4.17 in /usr/local/lib/python3.7/dist-packages (from requests>=2.0.1->pyocclient->sociophysicsdatahandler) (2021.10.8)\n",
      "Requirement already satisfied: idna<3,>=2.5 in /usr/local/lib/python3.7/dist-packages (from requests>=2.0.1->pyocclient->sociophysicsdatahandler) (2.10)\n",
      "Building wheels for collected packages: sociophysicsdatahandler, pyocclient\n",
      "  Building wheel for sociophysicsdatahandler (setup.py) ... \u001b[?25l\u001b[?25hdone\n",
      "  Created wheel for sociophysicsdatahandler: filename=sociophysicsDataHandler-1.2.2-py3-none-any.whl size=7126 sha256=f7c6da0763cb29b1aa984a570d6032eda69b6b2becfecf93319a6d8172cd6b22\n",
      "  Stored in directory: /root/.cache/pip/wheels/b8/e3/2f/e46bb2cfe43423220379ae42e6d52e407b282aac2a84bcad40\n",
      "  Building wheel for pyocclient (setup.py) ... \u001b[?25l\u001b[?25hdone\n",
      "  Created wheel for pyocclient: filename=pyocclient-0.6-py3-none-any.whl size=26056 sha256=95758cc827f0334680bf283811ef3c8f40b43007ef39d314d2a3d5898567069e\n",
      "  Stored in directory: /root/.cache/pip/wheels/fd/4b/94/c7ed8749c157aeef88f1a23dfe0709c3b64b5ec36964d3d15f\n",
      "Successfully built sociophysicsdatahandler pyocclient\n",
      "Installing collected packages: pyocclient, sociophysicsdatahandler\n",
      "Successfully installed pyocclient-0.6 sociophysicsdatahandler-1.2.2\n"
     ]
    }
   ],
   "source": [
    "import numpy as np\n",
    "import matplotlib.pyplot as plt\n",
    "import pandas as pd\n",
    "from scipy.stats import entropy\n",
    "import math as math\n",
    "import seaborn as sns\n",
    "from matplotlib.colors import LogNorm\n",
    "%pylab inline\n",
    "\n",
    "!pip install sociophysicsdatahandler"
   ]
  },
  {
   "cell_type": "code",
   "execution_count": 2,
   "metadata": {
    "colab": {
     "base_uri": "https://localhost:8080/"
    },
    "id": "F2EDPdq3_J7Z",
    "outputId": "9a4da7f3-b0b4-4cac-ddea-74842e783c3e"
   },
   "outputs": [
    {
     "name": "stdout",
     "output_type": "stream",
     "text": [
      "guest\r\n",
      "WVSWV-INLZY-VBPAU-IWMOR"
     ]
    }
   ],
   "source": [
    "from sociophysicsDataHandler import SociophysicsDataHandler\n",
    "!cat auth.txt"
   ]
  },
  {
   "cell_type": "code",
   "execution_count": 3,
   "metadata": {
    "id": "e9vcj1Tr4SAc"
   },
   "outputs": [],
   "source": [
    "dh = SociophysicsDataHandler()\n",
    "pd.set_option('float_format', '{:f}'.format)"
   ]
  },
  {
   "cell_type": "code",
   "execution_count": 4,
   "metadata": {
    "id": "-1jISpZqTuWn"
   },
   "outputs": [],
   "source": [
    "# dates\n",
    "list_days = ['20210401','20210402','20210403','20210404','20210405','20210406','20210407','20210408','20210409','20210410']"
   ]
  },
  {
   "cell_type": "code",
   "execution_count": 5,
   "metadata": {
    "colab": {
     "base_uri": "https://localhost:8080/"
    },
    "id": "hwk4jOsEx927",
    "outputId": "4bfee120-3cdf-4997-b612-c21ac2a3e172"
   },
   "outputs": [
    {
     "name": "stdout",
     "output_type": "stream",
     "text": [
      "targeting path /storage/surfsara/ProRail_USE_LL_data/ehv/platform2.1/20210401/\n",
      "Files listed. Accessible as <this-object>.filelist\n",
      "trying to fetch: /storage/surfsara/ProRail_USE_LL_data/ehv/platform2.1/20210401//EHV_Platform2.1_2021040106_trajectorie.parquet\n",
      "data fetched. Accessible as <this-object>.df\n",
      "targeting path /storage/surfsara/ProRail_USE_LL_data/ehv/platform2.1/20210402/\n",
      "Files listed. Accessible as <this-object>.filelist\n",
      "trying to fetch: /storage/surfsara/ProRail_USE_LL_data/ehv/platform2.1/20210402//EHV_Platform2.1_2021040206_trajectorie.parquet\n",
      "data fetched. Accessible as <this-object>.df\n",
      "targeting path /storage/surfsara/ProRail_USE_LL_data/ehv/platform2.1/20210403/\n",
      "Files listed. Accessible as <this-object>.filelist\n",
      "trying to fetch: /storage/surfsara/ProRail_USE_LL_data/ehv/platform2.1/20210403//EHV_Platform2.1_2021040306_trajectorie.parquet\n",
      "data fetched. Accessible as <this-object>.df\n",
      "targeting path /storage/surfsara/ProRail_USE_LL_data/ehv/platform2.1/20210404/\n",
      "Files listed. Accessible as <this-object>.filelist\n",
      "trying to fetch: /storage/surfsara/ProRail_USE_LL_data/ehv/platform2.1/20210404//EHV_Platform2.1_2021040406_trajectorie.parquet\n",
      "data fetched. Accessible as <this-object>.df\n",
      "targeting path /storage/surfsara/ProRail_USE_LL_data/ehv/platform2.1/20210405/\n",
      "Files listed. Accessible as <this-object>.filelist\n",
      "trying to fetch: /storage/surfsara/ProRail_USE_LL_data/ehv/platform2.1/20210405//EHV_Platform2.1_2021040506_trajectorie.parquet\n",
      "data fetched. Accessible as <this-object>.df\n",
      "targeting path /storage/surfsara/ProRail_USE_LL_data/ehv/platform2.1/20210406/\n",
      "Files listed. Accessible as <this-object>.filelist\n",
      "trying to fetch: /storage/surfsara/ProRail_USE_LL_data/ehv/platform2.1/20210406//EHV_Platform2.1_2021040606_trajectorie.parquet\n",
      "data fetched. Accessible as <this-object>.df\n",
      "targeting path /storage/surfsara/ProRail_USE_LL_data/ehv/platform2.1/20210407/\n",
      "Files listed. Accessible as <this-object>.filelist\n",
      "trying to fetch: /storage/surfsara/ProRail_USE_LL_data/ehv/platform2.1/20210407//EHV_Platform2.1_2021040706_trajectorie.parquet\n",
      "data fetched. Accessible as <this-object>.df\n",
      "targeting path /storage/surfsara/ProRail_USE_LL_data/ehv/platform2.1/20210408/\n",
      "Files listed. Accessible as <this-object>.filelist\n",
      "trying to fetch: /storage/surfsara/ProRail_USE_LL_data/ehv/platform2.1/20210408//EHV_Platform2.1_2021040806_trajectorie.parquet\n",
      "data fetched. Accessible as <this-object>.df\n",
      "targeting path /storage/surfsara/ProRail_USE_LL_data/ehv/platform2.1/20210409/\n",
      "Files listed. Accessible as <this-object>.filelist\n",
      "trying to fetch: /storage/surfsara/ProRail_USE_LL_data/ehv/platform2.1/20210409//EHV_Platform2.1_2021040906_trajectorie.parquet\n",
      "data fetched. Accessible as <this-object>.df\n",
      "targeting path /storage/surfsara/ProRail_USE_LL_data/ehv/platform2.1/20210410/\n",
      "Files listed. Accessible as <this-object>.filelist\n",
      "trying to fetch: /storage/surfsara/ProRail_USE_LL_data/ehv/platform2.1/20210410//EHV_Platform2.1_2021041006_trajectorie.parquet\n",
      "data fetched. Accessible as <this-object>.df\n"
     ]
    }
   ],
   "source": [
    "# concat multiple dates worth of data in one large dataframe\n",
    "df_list = []\n",
    "for i in list_days:\n",
    "  try:\n",
    "    file_path = 'ehv/platform2.1' + '/' + i + '/'\n",
    "    flst = dh.list_files(file_path)\n",
    "\n",
    "    dh.fetch_prorail_data_from_path(file_path + '/' + flst.name[6])\n",
    "    df_list.append(dh.df)\n",
    "  except:\n",
    "    pass\n",
    "large_dataframe = pd.concat(df_list)"
   ]
  },
  {
   "cell_type": "code",
   "execution_count": 6,
   "metadata": {
    "id": "vbl727pK1qDg"
   },
   "outputs": [],
   "source": [
    "# sort by tracked object and use central difference formula to compute velocity\n",
    "large_dataframe = large_dataframe.sort_values(by=['tracked_object'])\n",
    "large_dataframe['x_velocity']=np.gradient(large_dataframe['x_pos'])\n",
    "large_dataframe['y_velocity']=np.gradient(large_dataframe['y_pos'])\n",
    "large_dataframe['velocity'] = np.sqrt(large_dataframe['x_velocity']**2 + large_dataframe['y_velocity']**2)"
   ]
  },
  {
   "cell_type": "code",
   "execution_count": 72,
   "metadata": {
    "id": "RzSMZyoC2xBz"
   },
   "outputs": [],
   "source": [
    "# choose waiters\n",
    "waiters = large_dataframe[(large_dataframe['velocity']<10) & (large_dataframe['y_pos']<70000)]"
   ]
  },
  {
   "cell_type": "code",
   "execution_count": 260,
   "metadata": {
    "id": "UosZvcXfQtxZ"
   },
   "outputs": [],
   "source": [
    "# create heatmap to see where people like to wait\n",
    "H, xedges, yedges = histogram2d(waiters.y_pos,waiters.x_pos,bins=(150,30))\n",
    "H = H.T"
   ]
  },
  {
   "cell_type": "code",
   "execution_count": 263,
   "metadata": {
    "id": "_5nqMnsmW21c"
   },
   "outputs": [],
   "source": [
    "# remove unwanted datapoints such as the high values at the stairs,\n",
    "# h is now the probability landscape\n",
    "H[16:21,127:138]=10\n",
    "h = H[7:-1]"
   ]
  },
  {
   "cell_type": "code",
   "execution_count": 264,
   "metadata": {
    "colab": {
     "base_uri": "https://localhost:8080/",
     "height": 204
    },
    "id": "L6pn0vHPQ67t",
    "outputId": "48e07096-8c82-43d3-c49c-013c59332e8e"
   },
   "outputs": [
    {
     "data": {
      "image/png": "[encoded data removed]",
      "text/plain": [
       "<Figure size 1584x216 with 1 Axes>"
      ]
     },
     "metadata": {
      "needs_background": "light"
     },
     "output_type": "display_data"
    }
   ],
   "source": [
    "fig, ax = subplots(figsize=(22, 3))\n",
    "ax.imshow(h,cmap = 'Blues',norm = LogNorm())\n",
    "tight_layout()"
   ]
  },
  {
   "cell_type": "markdown",
   "metadata": {
    "id": "G8tpj64Yh9ji"
   },
   "source": [
    "idea: to make this time dependent, use the heat equation to average the probability landscape when the train arrives."
   ]
  }
 ],
 "metadata": {
  "colab": {
   "collapsed_sections": [],
   "name": "probability_landscape.ipynb",
   "provenance": []
  },
  "kernelspec": {
   "display_name": "Python 3",
   "language": "python",
   "name": "python3"
  },
  "language_info": {
   "codemirror_mode": {
    "name": "ipython",
    "version": 3
   },
   "file_extension": ".py",
   "mimetype": "text/x-python",
   "name": "python",
   "nbconvert_exporter": "python",
   "pygments_lexer": "ipython3",
   "version": "3.8.1"
  }
 },
 "nbformat": 4,
 "nbformat_minor": 1
}
