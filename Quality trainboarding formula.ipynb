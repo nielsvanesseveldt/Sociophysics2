{
 "cells": [
  {
   "cell_type": "code",
   "execution_count": 13,
   "metadata": {},
   "outputs": [
    {
     "name": "stdout",
     "output_type": "stream",
     "text": [
      "Populating the interactive namespace from numpy and matplotlib\n",
      "Requirement already satisfied: sociophysicsdatahandler in c:\\programdata\\anaconda3\\lib\\site-packages (1.2.4)\n",
      "Requirement already satisfied: scipy>=1.4 in c:\\programdata\\anaconda3\\lib\\site-packages (from sociophysicsdatahandler) (1.4.1)\n",
      "Requirement already satisfied: pandas in c:\\programdata\\anaconda3\\lib\\site-packages (from sociophysicsdatahandler) (1.0.1)\n",
      "Requirement already satisfied: pyarrow in c:\\programdata\\anaconda3\\lib\\site-packages (from sociophysicsdatahandler) (6.0.1)\n",
      "Requirement already satisfied: numpy>=1.8 in c:\\programdata\\anaconda3\\lib\\site-packages (from sociophysicsdatahandler) (1.18.1)\n",
      "Requirement already satisfied: pillow in c:\\programdata\\anaconda3\\lib\\site-packages (from sociophysicsdatahandler) (7.0.0)\n",
      "Requirement already satisfied: matplotlib>=2.0 in c:\\programdata\\anaconda3\\lib\\site-packages (from sociophysicsdatahandler) (3.1.3)\n",
      "Requirement already satisfied: pyocclient in c:\\programdata\\anaconda3\\lib\\site-packages (from sociophysicsdatahandler) (0.6)\n",
      "Requirement already satisfied: pytz>=2017.2 in c:\\programdata\\anaconda3\\lib\\site-packages (from pandas->sociophysicsdatahandler) (2019.3)\n",
      "Requirement already satisfied: python-dateutil>=2.6.1 in c:\\programdata\\anaconda3\\lib\\site-packages (from pandas->sociophysicsdatahandler) (2.8.1)\n",
      "Requirement already satisfied: cycler>=0.10 in c:\\programdata\\anaconda3\\lib\\site-packages (from matplotlib>=2.0->sociophysicsdatahandler) (0.10.0)\n",
      "Requirement already satisfied: kiwisolver>=1.0.1 in c:\\programdata\\anaconda3\\lib\\site-packages (from matplotlib>=2.0->sociophysicsdatahandler) (1.1.0)\n",
      "Requirement already satisfied: pyparsing!=2.0.4,!=2.1.2,!=2.1.6,>=2.0.1 in c:\\programdata\\anaconda3\\lib\\site-packages (from matplotlib>=2.0->sociophysicsdatahandler) (2.4.6)\n",
      "Requirement already satisfied: six in c:\\programdata\\anaconda3\\lib\\site-packages (from pyocclient->sociophysicsdatahandler) (1.14.0)\n",
      "Requirement already satisfied: requests>=2.0.1 in c:\\programdata\\anaconda3\\lib\\site-packages (from pyocclient->sociophysicsdatahandler) (2.22.0)\n",
      "Requirement already satisfied: setuptools in c:\\programdata\\anaconda3\\lib\\site-packages (from kiwisolver>=1.0.1->matplotlib>=2.0->sociophysicsdatahandler) (45.2.0.post20200210)\n",
      "Requirement already satisfied: idna<2.9,>=2.5 in c:\\programdata\\anaconda3\\lib\\site-packages (from requests>=2.0.1->pyocclient->sociophysicsdatahandler) (2.8)\n",
      "Requirement already satisfied: chardet<3.1.0,>=3.0.2 in c:\\programdata\\anaconda3\\lib\\site-packages (from requests>=2.0.1->pyocclient->sociophysicsdatahandler) (3.0.4)\n",
      "Requirement already satisfied: urllib3!=1.25.0,!=1.25.1,<1.26,>=1.21.1 in c:\\programdata\\anaconda3\\lib\\site-packages (from requests>=2.0.1->pyocclient->sociophysicsdatahandler) (1.25.8)\n",
      "Requirement already satisfied: certifi>=2017.4.17 in c:\\programdata\\anaconda3\\lib\\site-packages (from requests>=2.0.1->pyocclient->sociophysicsdatahandler) (2019.11.28)\n",
      "Requirement already up-to-date: sociophysicsDataHandler in c:\\programdata\\anaconda3\\lib\\site-packages (1.2.4)\n",
      "Requirement already satisfied, skipping upgrade: pandas in c:\\programdata\\anaconda3\\lib\\site-packages (from sociophysicsDataHandler) (1.0.1)\n",
      "Requirement already satisfied, skipping upgrade: pyarrow in c:\\programdata\\anaconda3\\lib\\site-packages (from sociophysicsDataHandler) (6.0.1)\n",
      "Requirement already satisfied, skipping upgrade: pillow in c:\\programdata\\anaconda3\\lib\\site-packages (from sociophysicsDataHandler) (7.0.0)\n",
      "Requirement already satisfied, skipping upgrade: pyocclient in c:\\programdata\\anaconda3\\lib\\site-packages (from sociophysicsDataHandler) (0.6)\n",
      "Requirement already satisfied, skipping upgrade: matplotlib>=2.0 in c:\\programdata\\anaconda3\\lib\\site-packages (from sociophysicsDataHandler) (3.1.3)\n",
      "Requirement already satisfied, skipping upgrade: scipy>=1.4 in c:\\programdata\\anaconda3\\lib\\site-packages (from sociophysicsDataHandler) (1.4.1)\n",
      "Requirement already satisfied, skipping upgrade: numpy>=1.8 in c:\\programdata\\anaconda3\\lib\\site-packages (from sociophysicsDataHandler) (1.18.1)\n",
      "Requirement already satisfied, skipping upgrade: python-dateutil>=2.6.1 in c:\\programdata\\anaconda3\\lib\\site-packages (from pandas->sociophysicsDataHandler) (2.8.1)\n",
      "Requirement already satisfied, skipping upgrade: pytz>=2017.2 in c:\\programdata\\anaconda3\\lib\\site-packages (from pandas->sociophysicsDataHandler) (2019.3)\n",
      "Requirement already satisfied, skipping upgrade: requests>=2.0.1 in c:\\programdata\\anaconda3\\lib\\site-packages (from pyocclient->sociophysicsDataHandler) (2.22.0)\n",
      "Requirement already satisfied, skipping upgrade: six in c:\\programdata\\anaconda3\\lib\\site-packages (from pyocclient->sociophysicsDataHandler) (1.14.0)\n",
      "Requirement already satisfied, skipping upgrade: cycler>=0.10 in c:\\programdata\\anaconda3\\lib\\site-packages (from matplotlib>=2.0->sociophysicsDataHandler) (0.10.0)\n",
      "Requirement already satisfied, skipping upgrade: pyparsing!=2.0.4,!=2.1.2,!=2.1.6,>=2.0.1 in c:\\programdata\\anaconda3\\lib\\site-packages (from matplotlib>=2.0->sociophysicsDataHandler) (2.4.6)\n",
      "Requirement already satisfied, skipping upgrade: kiwisolver>=1.0.1 in c:\\programdata\\anaconda3\\lib\\site-packages (from matplotlib>=2.0->sociophysicsDataHandler) (1.1.0)\n",
      "Requirement already satisfied, skipping upgrade: chardet<3.1.0,>=3.0.2 in c:\\programdata\\anaconda3\\lib\\site-packages (from requests>=2.0.1->pyocclient->sociophysicsDataHandler) (3.0.4)\n",
      "Requirement already satisfied, skipping upgrade: urllib3!=1.25.0,!=1.25.1,<1.26,>=1.21.1 in c:\\programdata\\anaconda3\\lib\\site-packages (from requests>=2.0.1->pyocclient->sociophysicsDataHandler) (1.25.8)\n",
      "Requirement already satisfied, skipping upgrade: certifi>=2017.4.17 in c:\\programdata\\anaconda3\\lib\\site-packages (from requests>=2.0.1->pyocclient->sociophysicsDataHandler) (2019.11.28)\n",
      "Requirement already satisfied, skipping upgrade: idna<2.9,>=2.5 in c:\\programdata\\anaconda3\\lib\\site-packages (from requests>=2.0.1->pyocclient->sociophysicsDataHandler) (2.8)\n",
      "Requirement already satisfied, skipping upgrade: setuptools in c:\\programdata\\anaconda3\\lib\\site-packages (from kiwisolver>=1.0.1->matplotlib>=2.0->sociophysicsDataHandler) (45.2.0.post20200210)\n"
     ]
    }
   ],
   "source": [
    "import numpy as np\n",
    "import matplotlib.pyplot as plt\n",
    "import pandas as pd\n",
    "from scipy.stats import entropy\n",
    "import math as math\n",
    "import seaborn as sns\n",
    "%pylab inline\n",
    "\n",
    "!pip install sociophysicsdatahandler\n",
    "!pip install --upgrade sociophysicsDataHandler"
   ]
  },
  {
   "cell_type": "code",
   "execution_count": 14,
   "metadata": {},
   "outputs": [
    {
     "name": "stderr",
     "output_type": "stream",
     "text": [
      "'cat' is not recognized as an internal or external command,\n",
      "operable program or batch file.\n"
     ]
    }
   ],
   "source": [
    "from sociophysicsDataHandler import SociophysicsDataHandler\n",
    "!cat auth.txt"
   ]
  },
  {
   "cell_type": "code",
   "execution_count": 15,
   "metadata": {},
   "outputs": [],
   "source": [
    "def md(d):\n",
    "  q = np.arange(1617258720000+d*86400000,1617258990000+d*86400000,100)\n",
    "  return q"
   ]
  },
  {
   "cell_type": "code",
   "execution_count": 16,
   "metadata": {},
   "outputs": [
    {
     "ename": "NameError",
     "evalue": "name 'xmin' is not defined",
     "output_type": "error",
     "traceback": [
      "\u001b[1;31m---------------------------------------------------------------------------\u001b[0m",
      "\u001b[1;31mNameError\u001b[0m                                 Traceback (most recent call last)",
      "\u001b[1;32m<ipython-input-16-fc30f558f133>\u001b[0m in \u001b[0;36m<module>\u001b[1;34m\u001b[0m\n\u001b[0;32m      1\u001b[0m \u001b[1;31m# Choose nr bin on x-axis, nr bins on y-axis and dimensions will be automatically generated depending on this variable\u001b[0m\u001b[1;33m\u001b[0m\u001b[1;33m\u001b[0m\u001b[1;33m\u001b[0m\u001b[0m\n\u001b[0;32m      2\u001b[0m \u001b[0mnr_bins_x\u001b[0m \u001b[1;33m=\u001b[0m \u001b[1;36m50\u001b[0m\u001b[1;33m\u001b[0m\u001b[1;33m\u001b[0m\u001b[0m\n\u001b[1;32m----> 3\u001b[1;33m \u001b[0mdimensions\u001b[0m \u001b[1;33m=\u001b[0m \u001b[1;33m(\u001b[0m\u001b[0mabs\u001b[0m\u001b[1;33m(\u001b[0m\u001b[0mxmin\u001b[0m\u001b[1;33m)\u001b[0m \u001b[1;33m+\u001b[0m \u001b[0mxmax\u001b[0m\u001b[1;33m)\u001b[0m\u001b[1;33m/\u001b[0m\u001b[0mnr_bins_x\u001b[0m\u001b[1;33m\u001b[0m\u001b[1;33m\u001b[0m\u001b[0m\n\u001b[0m\u001b[0;32m      4\u001b[0m \u001b[0mnr_bins_y\u001b[0m \u001b[1;33m=\u001b[0m \u001b[1;33m(\u001b[0m\u001b[0mabs\u001b[0m\u001b[1;33m(\u001b[0m\u001b[0mymin\u001b[0m\u001b[1;33m)\u001b[0m \u001b[1;33m+\u001b[0m \u001b[0mymax\u001b[0m\u001b[1;33m)\u001b[0m\u001b[1;33m/\u001b[0m\u001b[0mdimensions\u001b[0m\u001b[1;33m\u001b[0m\u001b[1;33m\u001b[0m\u001b[0m\n\u001b[0;32m      5\u001b[0m \u001b[1;33m\u001b[0m\u001b[0m\n",
      "\u001b[1;31mNameError\u001b[0m: name 'xmin' is not defined"
     ]
    }
   ],
   "source": [
    "# Choose nr bin on x-axis, nr bins on y-axis and dimensions will be automatically generated depending on this variable\n",
    "nr_bins_x = 50\n",
    "dimensions = (abs(xmin) + xmax)/nr_bins_x\n",
    "nr_bins_y = (abs(ymin) + ymax)/dimensions\n",
    "\n",
    "nr_y = ymin\n",
    "nr_x = xmin\n"
   ]
  },
  {
   "cell_type": "code",
   "execution_count": null,
   "metadata": {},
   "outputs": [],
   "source": [
    "qob = (n_train_doors/(n_passengers*distance))\n",
    "\n",
    "#qob higher = more efficient"
   ]
  },
  {
   "cell_type": "code",
   "execution_count": null,
   "metadata": {},
   "outputs": [],
   "source": []
  },
  {
   "cell_type": "code",
   "execution_count": null,
   "metadata": {},
   "outputs": [],
   "source": []
  }
 ],
 "metadata": {
  "kernelspec": {
   "display_name": "Python 3",
   "language": "python",
   "name": "python3"
  },
  "language_info": {
   "codemirror_mode": {
    "name": "ipython",
    "version": 3
   },
   "file_extension": ".py",
   "mimetype": "text/x-python",
   "name": "python",
   "nbconvert_exporter": "python",
   "pygments_lexer": "ipython3",
   "version": "3.7.6"
  }
 },
 "nbformat": 4,
 "nbformat_minor": 4
}
